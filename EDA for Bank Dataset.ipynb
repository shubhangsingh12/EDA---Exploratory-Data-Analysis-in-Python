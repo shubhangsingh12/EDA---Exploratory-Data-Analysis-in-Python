{
 "cells": [
  {
   "cell_type": "markdown",
   "metadata": {},
   "source": [
    "### Importing the libraries"
   ]
  },
  {
   "cell_type": "code",
   "execution_count": 1,
   "metadata": {},
   "outputs": [],
   "source": [
    "import warnings\n",
    "warnings.filterwarnings(\"ignore\")\n"
   ]
  },
  {
   "cell_type": "code",
   "execution_count": 2,
   "metadata": {},
   "outputs": [],
   "source": [
    "import pandas as pd\n",
    "import numpy as np\n",
    "import matplotlib.pyplot as plt, seaborn as sns\n",
    "%matplotlib inline"
   ]
  },
  {
   "cell_type": "markdown",
   "metadata": {},
   "source": [
    "### Read the dataset"
   ]
  },
  {
   "cell_type": "code",
   "execution_count": 3,
   "metadata": {},
   "outputs": [
    {
     "data": {
      "text/html": [
       "<div>\n",
       "<style scoped>\n",
       "    .dataframe tbody tr th:only-of-type {\n",
       "        vertical-align: middle;\n",
       "    }\n",
       "\n",
       "    .dataframe tbody tr th {\n",
       "        vertical-align: top;\n",
       "    }\n",
       "\n",
       "    .dataframe thead th {\n",
       "        text-align: right;\n",
       "    }\n",
       "</style>\n",
       "<table border=\"1\" class=\"dataframe\">\n",
       "  <thead>\n",
       "    <tr style=\"text-align: right;\">\n",
       "      <th></th>\n",
       "      <th>banking marketing</th>\n",
       "      <th>Unnamed: 1</th>\n",
       "      <th>Unnamed: 2</th>\n",
       "      <th>Unnamed: 3</th>\n",
       "      <th>Unnamed: 4</th>\n",
       "      <th>Unnamed: 5</th>\n",
       "      <th>Unnamed: 6</th>\n",
       "      <th>Unnamed: 7</th>\n",
       "      <th>Unnamed: 8</th>\n",
       "      <th>Unnamed: 9</th>\n",
       "      <th>Unnamed: 10</th>\n",
       "      <th>Unnamed: 11</th>\n",
       "      <th>Unnamed: 12</th>\n",
       "      <th>Unnamed: 13</th>\n",
       "      <th>Unnamed: 14</th>\n",
       "      <th>Unnamed: 15</th>\n",
       "      <th>Unnamed: 16</th>\n",
       "      <th>Unnamed: 17</th>\n",
       "      <th>Unnamed: 18</th>\n",
       "    </tr>\n",
       "  </thead>\n",
       "  <tbody>\n",
       "    <tr>\n",
       "      <th>0</th>\n",
       "      <td>customer id and age.</td>\n",
       "      <td>NaN</td>\n",
       "      <td>Customer salary and balance.</td>\n",
       "      <td>NaN</td>\n",
       "      <td>Customer marital status and job with education...</td>\n",
       "      <td>NaN</td>\n",
       "      <td>particular customer before targeted or not</td>\n",
       "      <td>NaN</td>\n",
       "      <td>Loan types: loans or housing loans</td>\n",
       "      <td>NaN</td>\n",
       "      <td>Contact type</td>\n",
       "      <td>NaN</td>\n",
       "      <td>month of contact</td>\n",
       "      <td>duration of call</td>\n",
       "      <td>NaN</td>\n",
       "      <td>NaN</td>\n",
       "      <td>NaN</td>\n",
       "      <td>outcome of previous contact</td>\n",
       "      <td>response of customer after call happned</td>\n",
       "    </tr>\n",
       "    <tr>\n",
       "      <th>1</th>\n",
       "      <td>customerid</td>\n",
       "      <td>age</td>\n",
       "      <td>salary</td>\n",
       "      <td>balance</td>\n",
       "      <td>marital</td>\n",
       "      <td>jobedu</td>\n",
       "      <td>targeted</td>\n",
       "      <td>default</td>\n",
       "      <td>housing</td>\n",
       "      <td>loan</td>\n",
       "      <td>contact</td>\n",
       "      <td>day</td>\n",
       "      <td>month</td>\n",
       "      <td>duration</td>\n",
       "      <td>campaign</td>\n",
       "      <td>pdays</td>\n",
       "      <td>previous</td>\n",
       "      <td>poutcome</td>\n",
       "      <td>response</td>\n",
       "    </tr>\n",
       "    <tr>\n",
       "      <th>2</th>\n",
       "      <td>1</td>\n",
       "      <td>58</td>\n",
       "      <td>100000</td>\n",
       "      <td>2143</td>\n",
       "      <td>married</td>\n",
       "      <td>management,tertiary</td>\n",
       "      <td>yes</td>\n",
       "      <td>no</td>\n",
       "      <td>yes</td>\n",
       "      <td>no</td>\n",
       "      <td>unknown</td>\n",
       "      <td>5</td>\n",
       "      <td>may, 2017</td>\n",
       "      <td>261 sec</td>\n",
       "      <td>1</td>\n",
       "      <td>-1</td>\n",
       "      <td>0</td>\n",
       "      <td>unknown</td>\n",
       "      <td>no</td>\n",
       "    </tr>\n",
       "    <tr>\n",
       "      <th>3</th>\n",
       "      <td>2</td>\n",
       "      <td>44</td>\n",
       "      <td>60000</td>\n",
       "      <td>29</td>\n",
       "      <td>single</td>\n",
       "      <td>technician,secondary</td>\n",
       "      <td>yes</td>\n",
       "      <td>no</td>\n",
       "      <td>yes</td>\n",
       "      <td>no</td>\n",
       "      <td>unknown</td>\n",
       "      <td>5</td>\n",
       "      <td>may, 2017</td>\n",
       "      <td>151 sec</td>\n",
       "      <td>1</td>\n",
       "      <td>-1</td>\n",
       "      <td>0</td>\n",
       "      <td>unknown</td>\n",
       "      <td>no</td>\n",
       "    </tr>\n",
       "    <tr>\n",
       "      <th>4</th>\n",
       "      <td>3</td>\n",
       "      <td>33</td>\n",
       "      <td>120000</td>\n",
       "      <td>2</td>\n",
       "      <td>married</td>\n",
       "      <td>entrepreneur,secondary</td>\n",
       "      <td>yes</td>\n",
       "      <td>no</td>\n",
       "      <td>yes</td>\n",
       "      <td>yes</td>\n",
       "      <td>unknown</td>\n",
       "      <td>5</td>\n",
       "      <td>may, 2017</td>\n",
       "      <td>76 sec</td>\n",
       "      <td>1</td>\n",
       "      <td>-1</td>\n",
       "      <td>0</td>\n",
       "      <td>unknown</td>\n",
       "      <td>no</td>\n",
       "    </tr>\n",
       "  </tbody>\n",
       "</table>\n",
       "</div>"
      ],
      "text/plain": [
       "      banking marketing Unnamed: 1                    Unnamed: 2 Unnamed: 3  \\\n",
       "0  customer id and age.        NaN  Customer salary and balance.        NaN   \n",
       "1            customerid        age                        salary    balance   \n",
       "2                     1         58                        100000       2143   \n",
       "3                     2         44                         60000         29   \n",
       "4                     3         33                        120000          2   \n",
       "\n",
       "                                          Unnamed: 4              Unnamed: 5  \\\n",
       "0  Customer marital status and job with education...                     NaN   \n",
       "1                                            marital                  jobedu   \n",
       "2                                            married     management,tertiary   \n",
       "3                                             single    technician,secondary   \n",
       "4                                            married  entrepreneur,secondary   \n",
       "\n",
       "                                   Unnamed: 6 Unnamed: 7  \\\n",
       "0  particular customer before targeted or not        NaN   \n",
       "1                                    targeted    default   \n",
       "2                                         yes         no   \n",
       "3                                         yes         no   \n",
       "4                                         yes         no   \n",
       "\n",
       "                           Unnamed: 8 Unnamed: 9   Unnamed: 10 Unnamed: 11  \\\n",
       "0  Loan types: loans or housing loans        NaN  Contact type         NaN   \n",
       "1                             housing       loan       contact         day   \n",
       "2                                 yes         no       unknown           5   \n",
       "3                                 yes         no       unknown           5   \n",
       "4                                 yes        yes       unknown           5   \n",
       "\n",
       "        Unnamed: 12       Unnamed: 13 Unnamed: 14 Unnamed: 15 Unnamed: 16  \\\n",
       "0  month of contact  duration of call         NaN         NaN         NaN   \n",
       "1             month          duration    campaign       pdays    previous   \n",
       "2         may, 2017           261 sec           1          -1           0   \n",
       "3         may, 2017           151 sec           1          -1           0   \n",
       "4         may, 2017            76 sec           1          -1           0   \n",
       "\n",
       "                   Unnamed: 17                              Unnamed: 18  \n",
       "0  outcome of previous contact  response of customer after call happned  \n",
       "1                     poutcome                                 response  \n",
       "2                      unknown                                       no  \n",
       "3                      unknown                                       no  \n",
       "4                      unknown                                       no  "
      ]
     },
     "execution_count": 3,
     "metadata": {},
     "output_type": "execute_result"
    }
   ],
   "source": [
    "inp0=pd.read_csv(\"bank_marketing_updated_v1.csv\")\n",
    "inp0.head()"
   ]
  },
  {
   "cell_type": "markdown",
   "metadata": {},
   "source": [
    "The first two rows in the raw file are not to be used and they need to be skipped."
   ]
  },
  {
   "cell_type": "markdown",
   "metadata": {},
   "source": [
    "### Data Cleaning"
   ]
  },
  {
   "cell_type": "code",
   "execution_count": 4,
   "metadata": {},
   "outputs": [
    {
     "data": {
      "text/html": [
       "<div>\n",
       "<style scoped>\n",
       "    .dataframe tbody tr th:only-of-type {\n",
       "        vertical-align: middle;\n",
       "    }\n",
       "\n",
       "    .dataframe tbody tr th {\n",
       "        vertical-align: top;\n",
       "    }\n",
       "\n",
       "    .dataframe thead th {\n",
       "        text-align: right;\n",
       "    }\n",
       "</style>\n",
       "<table border=\"1\" class=\"dataframe\">\n",
       "  <thead>\n",
       "    <tr style=\"text-align: right;\">\n",
       "      <th></th>\n",
       "      <th>customerid</th>\n",
       "      <th>age</th>\n",
       "      <th>salary</th>\n",
       "      <th>balance</th>\n",
       "      <th>marital</th>\n",
       "      <th>jobedu</th>\n",
       "      <th>targeted</th>\n",
       "      <th>default</th>\n",
       "      <th>housing</th>\n",
       "      <th>loan</th>\n",
       "      <th>contact</th>\n",
       "      <th>day</th>\n",
       "      <th>month</th>\n",
       "      <th>duration</th>\n",
       "      <th>campaign</th>\n",
       "      <th>pdays</th>\n",
       "      <th>previous</th>\n",
       "      <th>poutcome</th>\n",
       "      <th>response</th>\n",
       "    </tr>\n",
       "  </thead>\n",
       "  <tbody>\n",
       "    <tr>\n",
       "      <th>0</th>\n",
       "      <td>1</td>\n",
       "      <td>58.0</td>\n",
       "      <td>100000</td>\n",
       "      <td>2143</td>\n",
       "      <td>married</td>\n",
       "      <td>management,tertiary</td>\n",
       "      <td>yes</td>\n",
       "      <td>no</td>\n",
       "      <td>yes</td>\n",
       "      <td>no</td>\n",
       "      <td>unknown</td>\n",
       "      <td>5</td>\n",
       "      <td>may, 2017</td>\n",
       "      <td>261 sec</td>\n",
       "      <td>1</td>\n",
       "      <td>-1</td>\n",
       "      <td>0</td>\n",
       "      <td>unknown</td>\n",
       "      <td>no</td>\n",
       "    </tr>\n",
       "    <tr>\n",
       "      <th>1</th>\n",
       "      <td>2</td>\n",
       "      <td>44.0</td>\n",
       "      <td>60000</td>\n",
       "      <td>29</td>\n",
       "      <td>single</td>\n",
       "      <td>technician,secondary</td>\n",
       "      <td>yes</td>\n",
       "      <td>no</td>\n",
       "      <td>yes</td>\n",
       "      <td>no</td>\n",
       "      <td>unknown</td>\n",
       "      <td>5</td>\n",
       "      <td>may, 2017</td>\n",
       "      <td>151 sec</td>\n",
       "      <td>1</td>\n",
       "      <td>-1</td>\n",
       "      <td>0</td>\n",
       "      <td>unknown</td>\n",
       "      <td>no</td>\n",
       "    </tr>\n",
       "    <tr>\n",
       "      <th>2</th>\n",
       "      <td>3</td>\n",
       "      <td>33.0</td>\n",
       "      <td>120000</td>\n",
       "      <td>2</td>\n",
       "      <td>married</td>\n",
       "      <td>entrepreneur,secondary</td>\n",
       "      <td>yes</td>\n",
       "      <td>no</td>\n",
       "      <td>yes</td>\n",
       "      <td>yes</td>\n",
       "      <td>unknown</td>\n",
       "      <td>5</td>\n",
       "      <td>may, 2017</td>\n",
       "      <td>76 sec</td>\n",
       "      <td>1</td>\n",
       "      <td>-1</td>\n",
       "      <td>0</td>\n",
       "      <td>unknown</td>\n",
       "      <td>no</td>\n",
       "    </tr>\n",
       "    <tr>\n",
       "      <th>3</th>\n",
       "      <td>4</td>\n",
       "      <td>47.0</td>\n",
       "      <td>20000</td>\n",
       "      <td>1506</td>\n",
       "      <td>married</td>\n",
       "      <td>blue-collar,unknown</td>\n",
       "      <td>no</td>\n",
       "      <td>no</td>\n",
       "      <td>yes</td>\n",
       "      <td>no</td>\n",
       "      <td>unknown</td>\n",
       "      <td>5</td>\n",
       "      <td>may, 2017</td>\n",
       "      <td>92 sec</td>\n",
       "      <td>1</td>\n",
       "      <td>-1</td>\n",
       "      <td>0</td>\n",
       "      <td>unknown</td>\n",
       "      <td>no</td>\n",
       "    </tr>\n",
       "    <tr>\n",
       "      <th>4</th>\n",
       "      <td>5</td>\n",
       "      <td>33.0</td>\n",
       "      <td>0</td>\n",
       "      <td>1</td>\n",
       "      <td>single</td>\n",
       "      <td>unknown,unknown</td>\n",
       "      <td>no</td>\n",
       "      <td>no</td>\n",
       "      <td>no</td>\n",
       "      <td>no</td>\n",
       "      <td>unknown</td>\n",
       "      <td>5</td>\n",
       "      <td>may, 2017</td>\n",
       "      <td>198 sec</td>\n",
       "      <td>1</td>\n",
       "      <td>-1</td>\n",
       "      <td>0</td>\n",
       "      <td>unknown</td>\n",
       "      <td>no</td>\n",
       "    </tr>\n",
       "  </tbody>\n",
       "</table>\n",
       "</div>"
      ],
      "text/plain": [
       "   customerid   age  salary  balance  marital                  jobedu  \\\n",
       "0           1  58.0  100000     2143  married     management,tertiary   \n",
       "1           2  44.0   60000       29   single    technician,secondary   \n",
       "2           3  33.0  120000        2  married  entrepreneur,secondary   \n",
       "3           4  47.0   20000     1506  married     blue-collar,unknown   \n",
       "4           5  33.0       0        1   single         unknown,unknown   \n",
       "\n",
       "  targeted default housing loan  contact  day      month duration  campaign  \\\n",
       "0      yes      no     yes   no  unknown    5  may, 2017  261 sec         1   \n",
       "1      yes      no     yes   no  unknown    5  may, 2017  151 sec         1   \n",
       "2      yes      no     yes  yes  unknown    5  may, 2017   76 sec         1   \n",
       "3       no      no     yes   no  unknown    5  may, 2017   92 sec         1   \n",
       "4       no      no      no   no  unknown    5  may, 2017  198 sec         1   \n",
       "\n",
       "   pdays  previous poutcome response  \n",
       "0     -1         0  unknown       no  \n",
       "1     -1         0  unknown       no  \n",
       "2     -1         0  unknown       no  \n",
       "3     -1         0  unknown       no  \n",
       "4     -1         0  unknown       no  "
      ]
     },
     "execution_count": 4,
     "metadata": {},
     "output_type": "execute_result"
    }
   ],
   "source": [
    "inp0=pd.read_csv(\"bank_marketing_updated_v1.csv\",skiprows=2)\n",
    "inp0.head()"
   ]
  },
  {
   "cell_type": "markdown",
   "metadata": {},
   "source": [
    "customerid is not adding any value to our analysis so we will be dropping it."
   ]
  },
  {
   "cell_type": "code",
   "execution_count": 5,
   "metadata": {},
   "outputs": [
    {
     "data": {
      "text/html": [
       "<div>\n",
       "<style scoped>\n",
       "    .dataframe tbody tr th:only-of-type {\n",
       "        vertical-align: middle;\n",
       "    }\n",
       "\n",
       "    .dataframe tbody tr th {\n",
       "        vertical-align: top;\n",
       "    }\n",
       "\n",
       "    .dataframe thead th {\n",
       "        text-align: right;\n",
       "    }\n",
       "</style>\n",
       "<table border=\"1\" class=\"dataframe\">\n",
       "  <thead>\n",
       "    <tr style=\"text-align: right;\">\n",
       "      <th></th>\n",
       "      <th>age</th>\n",
       "      <th>salary</th>\n",
       "      <th>balance</th>\n",
       "      <th>marital</th>\n",
       "      <th>jobedu</th>\n",
       "      <th>targeted</th>\n",
       "      <th>default</th>\n",
       "      <th>housing</th>\n",
       "      <th>loan</th>\n",
       "      <th>contact</th>\n",
       "      <th>day</th>\n",
       "      <th>month</th>\n",
       "      <th>duration</th>\n",
       "      <th>campaign</th>\n",
       "      <th>pdays</th>\n",
       "      <th>previous</th>\n",
       "      <th>poutcome</th>\n",
       "      <th>response</th>\n",
       "    </tr>\n",
       "  </thead>\n",
       "  <tbody>\n",
       "    <tr>\n",
       "      <th>0</th>\n",
       "      <td>58.0</td>\n",
       "      <td>100000</td>\n",
       "      <td>2143</td>\n",
       "      <td>married</td>\n",
       "      <td>management,tertiary</td>\n",
       "      <td>yes</td>\n",
       "      <td>no</td>\n",
       "      <td>yes</td>\n",
       "      <td>no</td>\n",
       "      <td>unknown</td>\n",
       "      <td>5</td>\n",
       "      <td>may, 2017</td>\n",
       "      <td>261 sec</td>\n",
       "      <td>1</td>\n",
       "      <td>-1</td>\n",
       "      <td>0</td>\n",
       "      <td>unknown</td>\n",
       "      <td>no</td>\n",
       "    </tr>\n",
       "    <tr>\n",
       "      <th>1</th>\n",
       "      <td>44.0</td>\n",
       "      <td>60000</td>\n",
       "      <td>29</td>\n",
       "      <td>single</td>\n",
       "      <td>technician,secondary</td>\n",
       "      <td>yes</td>\n",
       "      <td>no</td>\n",
       "      <td>yes</td>\n",
       "      <td>no</td>\n",
       "      <td>unknown</td>\n",
       "      <td>5</td>\n",
       "      <td>may, 2017</td>\n",
       "      <td>151 sec</td>\n",
       "      <td>1</td>\n",
       "      <td>-1</td>\n",
       "      <td>0</td>\n",
       "      <td>unknown</td>\n",
       "      <td>no</td>\n",
       "    </tr>\n",
       "    <tr>\n",
       "      <th>2</th>\n",
       "      <td>33.0</td>\n",
       "      <td>120000</td>\n",
       "      <td>2</td>\n",
       "      <td>married</td>\n",
       "      <td>entrepreneur,secondary</td>\n",
       "      <td>yes</td>\n",
       "      <td>no</td>\n",
       "      <td>yes</td>\n",
       "      <td>yes</td>\n",
       "      <td>unknown</td>\n",
       "      <td>5</td>\n",
       "      <td>may, 2017</td>\n",
       "      <td>76 sec</td>\n",
       "      <td>1</td>\n",
       "      <td>-1</td>\n",
       "      <td>0</td>\n",
       "      <td>unknown</td>\n",
       "      <td>no</td>\n",
       "    </tr>\n",
       "    <tr>\n",
       "      <th>3</th>\n",
       "      <td>47.0</td>\n",
       "      <td>20000</td>\n",
       "      <td>1506</td>\n",
       "      <td>married</td>\n",
       "      <td>blue-collar,unknown</td>\n",
       "      <td>no</td>\n",
       "      <td>no</td>\n",
       "      <td>yes</td>\n",
       "      <td>no</td>\n",
       "      <td>unknown</td>\n",
       "      <td>5</td>\n",
       "      <td>may, 2017</td>\n",
       "      <td>92 sec</td>\n",
       "      <td>1</td>\n",
       "      <td>-1</td>\n",
       "      <td>0</td>\n",
       "      <td>unknown</td>\n",
       "      <td>no</td>\n",
       "    </tr>\n",
       "    <tr>\n",
       "      <th>4</th>\n",
       "      <td>33.0</td>\n",
       "      <td>0</td>\n",
       "      <td>1</td>\n",
       "      <td>single</td>\n",
       "      <td>unknown,unknown</td>\n",
       "      <td>no</td>\n",
       "      <td>no</td>\n",
       "      <td>no</td>\n",
       "      <td>no</td>\n",
       "      <td>unknown</td>\n",
       "      <td>5</td>\n",
       "      <td>may, 2017</td>\n",
       "      <td>198 sec</td>\n",
       "      <td>1</td>\n",
       "      <td>-1</td>\n",
       "      <td>0</td>\n",
       "      <td>unknown</td>\n",
       "      <td>no</td>\n",
       "    </tr>\n",
       "  </tbody>\n",
       "</table>\n",
       "</div>"
      ],
      "text/plain": [
       "    age  salary  balance  marital                  jobedu targeted default  \\\n",
       "0  58.0  100000     2143  married     management,tertiary      yes      no   \n",
       "1  44.0   60000       29   single    technician,secondary      yes      no   \n",
       "2  33.0  120000        2  married  entrepreneur,secondary      yes      no   \n",
       "3  47.0   20000     1506  married     blue-collar,unknown       no      no   \n",
       "4  33.0       0        1   single         unknown,unknown       no      no   \n",
       "\n",
       "  housing loan  contact  day      month duration  campaign  pdays  previous  \\\n",
       "0     yes   no  unknown    5  may, 2017  261 sec         1     -1         0   \n",
       "1     yes   no  unknown    5  may, 2017  151 sec         1     -1         0   \n",
       "2     yes  yes  unknown    5  may, 2017   76 sec         1     -1         0   \n",
       "3     yes   no  unknown    5  may, 2017   92 sec         1     -1         0   \n",
       "4      no   no  unknown    5  may, 2017  198 sec         1     -1         0   \n",
       "\n",
       "  poutcome response  \n",
       "0  unknown       no  \n",
       "1  unknown       no  \n",
       "2  unknown       no  \n",
       "3  unknown       no  \n",
       "4  unknown       no  "
      ]
     },
     "execution_count": 5,
     "metadata": {},
     "output_type": "execute_result"
    }
   ],
   "source": [
    "inp0.drop(\"customerid\",axis=1,inplace=True)\n",
    "inp0.head()"
   ]
  },
  {
   "cell_type": "markdown",
   "metadata": {},
   "source": [
    "Let's look at the jobedu column, and we will be dividing jobedu into job and edu."
   ]
  },
  {
   "cell_type": "code",
   "execution_count": 6,
   "metadata": {},
   "outputs": [
    {
     "data": {
      "text/html": [
       "<div>\n",
       "<style scoped>\n",
       "    .dataframe tbody tr th:only-of-type {\n",
       "        vertical-align: middle;\n",
       "    }\n",
       "\n",
       "    .dataframe tbody tr th {\n",
       "        vertical-align: top;\n",
       "    }\n",
       "\n",
       "    .dataframe thead th {\n",
       "        text-align: right;\n",
       "    }\n",
       "</style>\n",
       "<table border=\"1\" class=\"dataframe\">\n",
       "  <thead>\n",
       "    <tr style=\"text-align: right;\">\n",
       "      <th></th>\n",
       "      <th>age</th>\n",
       "      <th>salary</th>\n",
       "      <th>balance</th>\n",
       "      <th>marital</th>\n",
       "      <th>jobedu</th>\n",
       "      <th>targeted</th>\n",
       "      <th>default</th>\n",
       "      <th>housing</th>\n",
       "      <th>loan</th>\n",
       "      <th>contact</th>\n",
       "      <th>day</th>\n",
       "      <th>month</th>\n",
       "      <th>duration</th>\n",
       "      <th>campaign</th>\n",
       "      <th>pdays</th>\n",
       "      <th>previous</th>\n",
       "      <th>poutcome</th>\n",
       "      <th>response</th>\n",
       "      <th>job</th>\n",
       "    </tr>\n",
       "  </thead>\n",
       "  <tbody>\n",
       "    <tr>\n",
       "      <th>0</th>\n",
       "      <td>58.0</td>\n",
       "      <td>100000</td>\n",
       "      <td>2143</td>\n",
       "      <td>married</td>\n",
       "      <td>management,tertiary</td>\n",
       "      <td>yes</td>\n",
       "      <td>no</td>\n",
       "      <td>yes</td>\n",
       "      <td>no</td>\n",
       "      <td>unknown</td>\n",
       "      <td>5</td>\n",
       "      <td>may, 2017</td>\n",
       "      <td>261 sec</td>\n",
       "      <td>1</td>\n",
       "      <td>-1</td>\n",
       "      <td>0</td>\n",
       "      <td>unknown</td>\n",
       "      <td>no</td>\n",
       "      <td>management</td>\n",
       "    </tr>\n",
       "    <tr>\n",
       "      <th>1</th>\n",
       "      <td>44.0</td>\n",
       "      <td>60000</td>\n",
       "      <td>29</td>\n",
       "      <td>single</td>\n",
       "      <td>technician,secondary</td>\n",
       "      <td>yes</td>\n",
       "      <td>no</td>\n",
       "      <td>yes</td>\n",
       "      <td>no</td>\n",
       "      <td>unknown</td>\n",
       "      <td>5</td>\n",
       "      <td>may, 2017</td>\n",
       "      <td>151 sec</td>\n",
       "      <td>1</td>\n",
       "      <td>-1</td>\n",
       "      <td>0</td>\n",
       "      <td>unknown</td>\n",
       "      <td>no</td>\n",
       "      <td>technician</td>\n",
       "    </tr>\n",
       "    <tr>\n",
       "      <th>2</th>\n",
       "      <td>33.0</td>\n",
       "      <td>120000</td>\n",
       "      <td>2</td>\n",
       "      <td>married</td>\n",
       "      <td>entrepreneur,secondary</td>\n",
       "      <td>yes</td>\n",
       "      <td>no</td>\n",
       "      <td>yes</td>\n",
       "      <td>yes</td>\n",
       "      <td>unknown</td>\n",
       "      <td>5</td>\n",
       "      <td>may, 2017</td>\n",
       "      <td>76 sec</td>\n",
       "      <td>1</td>\n",
       "      <td>-1</td>\n",
       "      <td>0</td>\n",
       "      <td>unknown</td>\n",
       "      <td>no</td>\n",
       "      <td>entrepreneur</td>\n",
       "    </tr>\n",
       "    <tr>\n",
       "      <th>3</th>\n",
       "      <td>47.0</td>\n",
       "      <td>20000</td>\n",
       "      <td>1506</td>\n",
       "      <td>married</td>\n",
       "      <td>blue-collar,unknown</td>\n",
       "      <td>no</td>\n",
       "      <td>no</td>\n",
       "      <td>yes</td>\n",
       "      <td>no</td>\n",
       "      <td>unknown</td>\n",
       "      <td>5</td>\n",
       "      <td>may, 2017</td>\n",
       "      <td>92 sec</td>\n",
       "      <td>1</td>\n",
       "      <td>-1</td>\n",
       "      <td>0</td>\n",
       "      <td>unknown</td>\n",
       "      <td>no</td>\n",
       "      <td>blue-collar</td>\n",
       "    </tr>\n",
       "    <tr>\n",
       "      <th>4</th>\n",
       "      <td>33.0</td>\n",
       "      <td>0</td>\n",
       "      <td>1</td>\n",
       "      <td>single</td>\n",
       "      <td>unknown,unknown</td>\n",
       "      <td>no</td>\n",
       "      <td>no</td>\n",
       "      <td>no</td>\n",
       "      <td>no</td>\n",
       "      <td>unknown</td>\n",
       "      <td>5</td>\n",
       "      <td>may, 2017</td>\n",
       "      <td>198 sec</td>\n",
       "      <td>1</td>\n",
       "      <td>-1</td>\n",
       "      <td>0</td>\n",
       "      <td>unknown</td>\n",
       "      <td>no</td>\n",
       "      <td>unknown</td>\n",
       "    </tr>\n",
       "  </tbody>\n",
       "</table>\n",
       "</div>"
      ],
      "text/plain": [
       "    age  salary  balance  marital                  jobedu targeted default  \\\n",
       "0  58.0  100000     2143  married     management,tertiary      yes      no   \n",
       "1  44.0   60000       29   single    technician,secondary      yes      no   \n",
       "2  33.0  120000        2  married  entrepreneur,secondary      yes      no   \n",
       "3  47.0   20000     1506  married     blue-collar,unknown       no      no   \n",
       "4  33.0       0        1   single         unknown,unknown       no      no   \n",
       "\n",
       "  housing loan  contact  day      month duration  campaign  pdays  previous  \\\n",
       "0     yes   no  unknown    5  may, 2017  261 sec         1     -1         0   \n",
       "1     yes   no  unknown    5  may, 2017  151 sec         1     -1         0   \n",
       "2     yes  yes  unknown    5  may, 2017   76 sec         1     -1         0   \n",
       "3     yes   no  unknown    5  may, 2017   92 sec         1     -1         0   \n",
       "4      no   no  unknown    5  may, 2017  198 sec         1     -1         0   \n",
       "\n",
       "  poutcome response           job  \n",
       "0  unknown       no    management  \n",
       "1  unknown       no    technician  \n",
       "2  unknown       no  entrepreneur  \n",
       "3  unknown       no   blue-collar  \n",
       "4  unknown       no       unknown  "
      ]
     },
     "execution_count": 6,
     "metadata": {},
     "output_type": "execute_result"
    }
   ],
   "source": [
    "inp0[\"job\"]=inp0.jobedu.apply(lambda x:x.split(\",\")[0])\n",
    "inp0.head()"
   ]
  },
  {
   "cell_type": "code",
   "execution_count": 7,
   "metadata": {},
   "outputs": [
    {
     "data": {
      "text/html": [
       "<div>\n",
       "<style scoped>\n",
       "    .dataframe tbody tr th:only-of-type {\n",
       "        vertical-align: middle;\n",
       "    }\n",
       "\n",
       "    .dataframe tbody tr th {\n",
       "        vertical-align: top;\n",
       "    }\n",
       "\n",
       "    .dataframe thead th {\n",
       "        text-align: right;\n",
       "    }\n",
       "</style>\n",
       "<table border=\"1\" class=\"dataframe\">\n",
       "  <thead>\n",
       "    <tr style=\"text-align: right;\">\n",
       "      <th></th>\n",
       "      <th>age</th>\n",
       "      <th>salary</th>\n",
       "      <th>balance</th>\n",
       "      <th>marital</th>\n",
       "      <th>jobedu</th>\n",
       "      <th>targeted</th>\n",
       "      <th>default</th>\n",
       "      <th>housing</th>\n",
       "      <th>loan</th>\n",
       "      <th>contact</th>\n",
       "      <th>day</th>\n",
       "      <th>month</th>\n",
       "      <th>duration</th>\n",
       "      <th>campaign</th>\n",
       "      <th>pdays</th>\n",
       "      <th>previous</th>\n",
       "      <th>poutcome</th>\n",
       "      <th>response</th>\n",
       "      <th>job</th>\n",
       "      <th>edu</th>\n",
       "    </tr>\n",
       "  </thead>\n",
       "  <tbody>\n",
       "    <tr>\n",
       "      <th>0</th>\n",
       "      <td>58.0</td>\n",
       "      <td>100000</td>\n",
       "      <td>2143</td>\n",
       "      <td>married</td>\n",
       "      <td>management,tertiary</td>\n",
       "      <td>yes</td>\n",
       "      <td>no</td>\n",
       "      <td>yes</td>\n",
       "      <td>no</td>\n",
       "      <td>unknown</td>\n",
       "      <td>5</td>\n",
       "      <td>may, 2017</td>\n",
       "      <td>261 sec</td>\n",
       "      <td>1</td>\n",
       "      <td>-1</td>\n",
       "      <td>0</td>\n",
       "      <td>unknown</td>\n",
       "      <td>no</td>\n",
       "      <td>management</td>\n",
       "      <td>tertiary</td>\n",
       "    </tr>\n",
       "    <tr>\n",
       "      <th>1</th>\n",
       "      <td>44.0</td>\n",
       "      <td>60000</td>\n",
       "      <td>29</td>\n",
       "      <td>single</td>\n",
       "      <td>technician,secondary</td>\n",
       "      <td>yes</td>\n",
       "      <td>no</td>\n",
       "      <td>yes</td>\n",
       "      <td>no</td>\n",
       "      <td>unknown</td>\n",
       "      <td>5</td>\n",
       "      <td>may, 2017</td>\n",
       "      <td>151 sec</td>\n",
       "      <td>1</td>\n",
       "      <td>-1</td>\n",
       "      <td>0</td>\n",
       "      <td>unknown</td>\n",
       "      <td>no</td>\n",
       "      <td>technician</td>\n",
       "      <td>secondary</td>\n",
       "    </tr>\n",
       "    <tr>\n",
       "      <th>2</th>\n",
       "      <td>33.0</td>\n",
       "      <td>120000</td>\n",
       "      <td>2</td>\n",
       "      <td>married</td>\n",
       "      <td>entrepreneur,secondary</td>\n",
       "      <td>yes</td>\n",
       "      <td>no</td>\n",
       "      <td>yes</td>\n",
       "      <td>yes</td>\n",
       "      <td>unknown</td>\n",
       "      <td>5</td>\n",
       "      <td>may, 2017</td>\n",
       "      <td>76 sec</td>\n",
       "      <td>1</td>\n",
       "      <td>-1</td>\n",
       "      <td>0</td>\n",
       "      <td>unknown</td>\n",
       "      <td>no</td>\n",
       "      <td>entrepreneur</td>\n",
       "      <td>secondary</td>\n",
       "    </tr>\n",
       "    <tr>\n",
       "      <th>3</th>\n",
       "      <td>47.0</td>\n",
       "      <td>20000</td>\n",
       "      <td>1506</td>\n",
       "      <td>married</td>\n",
       "      <td>blue-collar,unknown</td>\n",
       "      <td>no</td>\n",
       "      <td>no</td>\n",
       "      <td>yes</td>\n",
       "      <td>no</td>\n",
       "      <td>unknown</td>\n",
       "      <td>5</td>\n",
       "      <td>may, 2017</td>\n",
       "      <td>92 sec</td>\n",
       "      <td>1</td>\n",
       "      <td>-1</td>\n",
       "      <td>0</td>\n",
       "      <td>unknown</td>\n",
       "      <td>no</td>\n",
       "      <td>blue-collar</td>\n",
       "      <td>unknown</td>\n",
       "    </tr>\n",
       "    <tr>\n",
       "      <th>4</th>\n",
       "      <td>33.0</td>\n",
       "      <td>0</td>\n",
       "      <td>1</td>\n",
       "      <td>single</td>\n",
       "      <td>unknown,unknown</td>\n",
       "      <td>no</td>\n",
       "      <td>no</td>\n",
       "      <td>no</td>\n",
       "      <td>no</td>\n",
       "      <td>unknown</td>\n",
       "      <td>5</td>\n",
       "      <td>may, 2017</td>\n",
       "      <td>198 sec</td>\n",
       "      <td>1</td>\n",
       "      <td>-1</td>\n",
       "      <td>0</td>\n",
       "      <td>unknown</td>\n",
       "      <td>no</td>\n",
       "      <td>unknown</td>\n",
       "      <td>unknown</td>\n",
       "    </tr>\n",
       "  </tbody>\n",
       "</table>\n",
       "</div>"
      ],
      "text/plain": [
       "    age  salary  balance  marital                  jobedu targeted default  \\\n",
       "0  58.0  100000     2143  married     management,tertiary      yes      no   \n",
       "1  44.0   60000       29   single    technician,secondary      yes      no   \n",
       "2  33.0  120000        2  married  entrepreneur,secondary      yes      no   \n",
       "3  47.0   20000     1506  married     blue-collar,unknown       no      no   \n",
       "4  33.0       0        1   single         unknown,unknown       no      no   \n",
       "\n",
       "  housing loan  contact  day      month duration  campaign  pdays  previous  \\\n",
       "0     yes   no  unknown    5  may, 2017  261 sec         1     -1         0   \n",
       "1     yes   no  unknown    5  may, 2017  151 sec         1     -1         0   \n",
       "2     yes  yes  unknown    5  may, 2017   76 sec         1     -1         0   \n",
       "3     yes   no  unknown    5  may, 2017   92 sec         1     -1         0   \n",
       "4      no   no  unknown    5  may, 2017  198 sec         1     -1         0   \n",
       "\n",
       "  poutcome response           job        edu  \n",
       "0  unknown       no    management   tertiary  \n",
       "1  unknown       no    technician  secondary  \n",
       "2  unknown       no  entrepreneur  secondary  \n",
       "3  unknown       no   blue-collar    unknown  \n",
       "4  unknown       no       unknown    unknown  "
      ]
     },
     "execution_count": 7,
     "metadata": {},
     "output_type": "execute_result"
    }
   ],
   "source": [
    "inp0[\"edu\"]=inp0.jobedu.apply(lambda x:x.split(\",\")[1])\n",
    "inp0.head()"
   ]
  },
  {
   "cell_type": "markdown",
   "metadata": {},
   "source": [
    "We need to drop the jobedu column now."
   ]
  },
  {
   "cell_type": "code",
   "execution_count": 8,
   "metadata": {},
   "outputs": [
    {
     "data": {
      "text/html": [
       "<div>\n",
       "<style scoped>\n",
       "    .dataframe tbody tr th:only-of-type {\n",
       "        vertical-align: middle;\n",
       "    }\n",
       "\n",
       "    .dataframe tbody tr th {\n",
       "        vertical-align: top;\n",
       "    }\n",
       "\n",
       "    .dataframe thead th {\n",
       "        text-align: right;\n",
       "    }\n",
       "</style>\n",
       "<table border=\"1\" class=\"dataframe\">\n",
       "  <thead>\n",
       "    <tr style=\"text-align: right;\">\n",
       "      <th></th>\n",
       "      <th>age</th>\n",
       "      <th>salary</th>\n",
       "      <th>balance</th>\n",
       "      <th>marital</th>\n",
       "      <th>targeted</th>\n",
       "      <th>default</th>\n",
       "      <th>housing</th>\n",
       "      <th>loan</th>\n",
       "      <th>contact</th>\n",
       "      <th>day</th>\n",
       "      <th>month</th>\n",
       "      <th>duration</th>\n",
       "      <th>campaign</th>\n",
       "      <th>pdays</th>\n",
       "      <th>previous</th>\n",
       "      <th>poutcome</th>\n",
       "      <th>response</th>\n",
       "      <th>job</th>\n",
       "      <th>edu</th>\n",
       "    </tr>\n",
       "  </thead>\n",
       "  <tbody>\n",
       "    <tr>\n",
       "      <th>0</th>\n",
       "      <td>58.0</td>\n",
       "      <td>100000</td>\n",
       "      <td>2143</td>\n",
       "      <td>married</td>\n",
       "      <td>yes</td>\n",
       "      <td>no</td>\n",
       "      <td>yes</td>\n",
       "      <td>no</td>\n",
       "      <td>unknown</td>\n",
       "      <td>5</td>\n",
       "      <td>may, 2017</td>\n",
       "      <td>261 sec</td>\n",
       "      <td>1</td>\n",
       "      <td>-1</td>\n",
       "      <td>0</td>\n",
       "      <td>unknown</td>\n",
       "      <td>no</td>\n",
       "      <td>management</td>\n",
       "      <td>tertiary</td>\n",
       "    </tr>\n",
       "    <tr>\n",
       "      <th>1</th>\n",
       "      <td>44.0</td>\n",
       "      <td>60000</td>\n",
       "      <td>29</td>\n",
       "      <td>single</td>\n",
       "      <td>yes</td>\n",
       "      <td>no</td>\n",
       "      <td>yes</td>\n",
       "      <td>no</td>\n",
       "      <td>unknown</td>\n",
       "      <td>5</td>\n",
       "      <td>may, 2017</td>\n",
       "      <td>151 sec</td>\n",
       "      <td>1</td>\n",
       "      <td>-1</td>\n",
       "      <td>0</td>\n",
       "      <td>unknown</td>\n",
       "      <td>no</td>\n",
       "      <td>technician</td>\n",
       "      <td>secondary</td>\n",
       "    </tr>\n",
       "    <tr>\n",
       "      <th>2</th>\n",
       "      <td>33.0</td>\n",
       "      <td>120000</td>\n",
       "      <td>2</td>\n",
       "      <td>married</td>\n",
       "      <td>yes</td>\n",
       "      <td>no</td>\n",
       "      <td>yes</td>\n",
       "      <td>yes</td>\n",
       "      <td>unknown</td>\n",
       "      <td>5</td>\n",
       "      <td>may, 2017</td>\n",
       "      <td>76 sec</td>\n",
       "      <td>1</td>\n",
       "      <td>-1</td>\n",
       "      <td>0</td>\n",
       "      <td>unknown</td>\n",
       "      <td>no</td>\n",
       "      <td>entrepreneur</td>\n",
       "      <td>secondary</td>\n",
       "    </tr>\n",
       "    <tr>\n",
       "      <th>3</th>\n",
       "      <td>47.0</td>\n",
       "      <td>20000</td>\n",
       "      <td>1506</td>\n",
       "      <td>married</td>\n",
       "      <td>no</td>\n",
       "      <td>no</td>\n",
       "      <td>yes</td>\n",
       "      <td>no</td>\n",
       "      <td>unknown</td>\n",
       "      <td>5</td>\n",
       "      <td>may, 2017</td>\n",
       "      <td>92 sec</td>\n",
       "      <td>1</td>\n",
       "      <td>-1</td>\n",
       "      <td>0</td>\n",
       "      <td>unknown</td>\n",
       "      <td>no</td>\n",
       "      <td>blue-collar</td>\n",
       "      <td>unknown</td>\n",
       "    </tr>\n",
       "    <tr>\n",
       "      <th>4</th>\n",
       "      <td>33.0</td>\n",
       "      <td>0</td>\n",
       "      <td>1</td>\n",
       "      <td>single</td>\n",
       "      <td>no</td>\n",
       "      <td>no</td>\n",
       "      <td>no</td>\n",
       "      <td>no</td>\n",
       "      <td>unknown</td>\n",
       "      <td>5</td>\n",
       "      <td>may, 2017</td>\n",
       "      <td>198 sec</td>\n",
       "      <td>1</td>\n",
       "      <td>-1</td>\n",
       "      <td>0</td>\n",
       "      <td>unknown</td>\n",
       "      <td>no</td>\n",
       "      <td>unknown</td>\n",
       "      <td>unknown</td>\n",
       "    </tr>\n",
       "  </tbody>\n",
       "</table>\n",
       "</div>"
      ],
      "text/plain": [
       "    age  salary  balance  marital targeted default housing loan  contact  day  \\\n",
       "0  58.0  100000     2143  married      yes      no     yes   no  unknown    5   \n",
       "1  44.0   60000       29   single      yes      no     yes   no  unknown    5   \n",
       "2  33.0  120000        2  married      yes      no     yes  yes  unknown    5   \n",
       "3  47.0   20000     1506  married       no      no     yes   no  unknown    5   \n",
       "4  33.0       0        1   single       no      no      no   no  unknown    5   \n",
       "\n",
       "       month duration  campaign  pdays  previous poutcome response  \\\n",
       "0  may, 2017  261 sec         1     -1         0  unknown       no   \n",
       "1  may, 2017  151 sec         1     -1         0  unknown       no   \n",
       "2  may, 2017   76 sec         1     -1         0  unknown       no   \n",
       "3  may, 2017   92 sec         1     -1         0  unknown       no   \n",
       "4  may, 2017  198 sec         1     -1         0  unknown       no   \n",
       "\n",
       "            job        edu  \n",
       "0    management   tertiary  \n",
       "1    technician  secondary  \n",
       "2  entrepreneur  secondary  \n",
       "3   blue-collar    unknown  \n",
       "4       unknown    unknown  "
      ]
     },
     "execution_count": 8,
     "metadata": {},
     "output_type": "execute_result"
    }
   ],
   "source": [
    "inp0.drop(\"jobedu\",axis=1,inplace=True)\n",
    "inp0.head()"
   ]
  },
  {
   "cell_type": "markdown",
   "metadata": {},
   "source": [
    "We see the month column has both the month and the year and also the data is from 2017.\n",
    "We want to extract month from the column month."
   ]
  },
  {
   "cell_type": "code",
   "execution_count": 9,
   "metadata": {},
   "outputs": [
    {
     "ename": "AttributeError",
     "evalue": "'float' object has no attribute 'split'",
     "output_type": "error",
     "traceback": [
      "\u001b[1;31m---------------------------------------------------------------------------\u001b[0m",
      "\u001b[1;31mAttributeError\u001b[0m                            Traceback (most recent call last)",
      "\u001b[1;32m<ipython-input-9-a5ff982d9619>\u001b[0m in \u001b[0;36m<module>\u001b[1;34m\u001b[0m\n\u001b[1;32m----> 1\u001b[1;33m \u001b[0minp0\u001b[0m\u001b[1;33m[\u001b[0m\u001b[1;34m\"month\"\u001b[0m\u001b[1;33m]\u001b[0m\u001b[1;33m=\u001b[0m\u001b[0minp0\u001b[0m\u001b[1;33m.\u001b[0m\u001b[0mmonth\u001b[0m\u001b[1;33m.\u001b[0m\u001b[0mapply\u001b[0m\u001b[1;33m(\u001b[0m\u001b[1;32mlambda\u001b[0m \u001b[0mx\u001b[0m\u001b[1;33m:\u001b[0m\u001b[0mx\u001b[0m\u001b[1;33m.\u001b[0m\u001b[0msplit\u001b[0m\u001b[1;33m(\u001b[0m\u001b[1;34m\",\"\u001b[0m\u001b[1;33m)\u001b[0m\u001b[1;33m[\u001b[0m\u001b[1;36m0\u001b[0m\u001b[1;33m]\u001b[0m\u001b[1;33m)\u001b[0m\u001b[1;33m\u001b[0m\u001b[1;33m\u001b[0m\u001b[0m\n\u001b[0m",
      "\u001b[1;32m~\\anaconda3\\lib\\site-packages\\pandas\\core\\series.py\u001b[0m in \u001b[0;36mapply\u001b[1;34m(self, func, convert_dtype, args, **kwds)\u001b[0m\n\u001b[0;32m   3846\u001b[0m             \u001b[1;32melse\u001b[0m\u001b[1;33m:\u001b[0m\u001b[1;33m\u001b[0m\u001b[1;33m\u001b[0m\u001b[0m\n\u001b[0;32m   3847\u001b[0m                 \u001b[0mvalues\u001b[0m \u001b[1;33m=\u001b[0m \u001b[0mself\u001b[0m\u001b[1;33m.\u001b[0m\u001b[0mastype\u001b[0m\u001b[1;33m(\u001b[0m\u001b[0mobject\u001b[0m\u001b[1;33m)\u001b[0m\u001b[1;33m.\u001b[0m\u001b[0mvalues\u001b[0m\u001b[1;33m\u001b[0m\u001b[1;33m\u001b[0m\u001b[0m\n\u001b[1;32m-> 3848\u001b[1;33m                 \u001b[0mmapped\u001b[0m \u001b[1;33m=\u001b[0m \u001b[0mlib\u001b[0m\u001b[1;33m.\u001b[0m\u001b[0mmap_infer\u001b[0m\u001b[1;33m(\u001b[0m\u001b[0mvalues\u001b[0m\u001b[1;33m,\u001b[0m \u001b[0mf\u001b[0m\u001b[1;33m,\u001b[0m \u001b[0mconvert\u001b[0m\u001b[1;33m=\u001b[0m\u001b[0mconvert_dtype\u001b[0m\u001b[1;33m)\u001b[0m\u001b[1;33m\u001b[0m\u001b[1;33m\u001b[0m\u001b[0m\n\u001b[0m\u001b[0;32m   3849\u001b[0m \u001b[1;33m\u001b[0m\u001b[0m\n\u001b[0;32m   3850\u001b[0m         \u001b[1;32mif\u001b[0m \u001b[0mlen\u001b[0m\u001b[1;33m(\u001b[0m\u001b[0mmapped\u001b[0m\u001b[1;33m)\u001b[0m \u001b[1;32mand\u001b[0m \u001b[0misinstance\u001b[0m\u001b[1;33m(\u001b[0m\u001b[0mmapped\u001b[0m\u001b[1;33m[\u001b[0m\u001b[1;36m0\u001b[0m\u001b[1;33m]\u001b[0m\u001b[1;33m,\u001b[0m \u001b[0mSeries\u001b[0m\u001b[1;33m)\u001b[0m\u001b[1;33m:\u001b[0m\u001b[1;33m\u001b[0m\u001b[1;33m\u001b[0m\u001b[0m\n",
      "\u001b[1;32mpandas\\_libs\\lib.pyx\u001b[0m in \u001b[0;36mpandas._libs.lib.map_infer\u001b[1;34m()\u001b[0m\n",
      "\u001b[1;32m<ipython-input-9-a5ff982d9619>\u001b[0m in \u001b[0;36m<lambda>\u001b[1;34m(x)\u001b[0m\n\u001b[1;32m----> 1\u001b[1;33m \u001b[0minp0\u001b[0m\u001b[1;33m[\u001b[0m\u001b[1;34m\"month\"\u001b[0m\u001b[1;33m]\u001b[0m\u001b[1;33m=\u001b[0m\u001b[0minp0\u001b[0m\u001b[1;33m.\u001b[0m\u001b[0mmonth\u001b[0m\u001b[1;33m.\u001b[0m\u001b[0mapply\u001b[0m\u001b[1;33m(\u001b[0m\u001b[1;32mlambda\u001b[0m \u001b[0mx\u001b[0m\u001b[1;33m:\u001b[0m\u001b[0mx\u001b[0m\u001b[1;33m.\u001b[0m\u001b[0msplit\u001b[0m\u001b[1;33m(\u001b[0m\u001b[1;34m\",\"\u001b[0m\u001b[1;33m)\u001b[0m\u001b[1;33m[\u001b[0m\u001b[1;36m0\u001b[0m\u001b[1;33m]\u001b[0m\u001b[1;33m)\u001b[0m\u001b[1;33m\u001b[0m\u001b[1;33m\u001b[0m\u001b[0m\n\u001b[0m",
      "\u001b[1;31mAttributeError\u001b[0m: 'float' object has no attribute 'split'"
     ]
    }
   ],
   "source": [
    "inp0[\"month\"]=inp0.month.apply(lambda x:x.split(\",\")[0])"
   ]
  },
  {
   "cell_type": "markdown",
   "metadata": {},
   "source": [
    "Let's whats going on?"
   ]
  },
  {
   "cell_type": "markdown",
   "metadata": {},
   "source": [
    "Checking the type of values in month column whether they are float or not?"
   ]
  },
  {
   "cell_type": "code",
   "execution_count": 10,
   "metadata": {},
   "outputs": [
    {
     "data": {
      "text/html": [
       "<div>\n",
       "<style scoped>\n",
       "    .dataframe tbody tr th:only-of-type {\n",
       "        vertical-align: middle;\n",
       "    }\n",
       "\n",
       "    .dataframe tbody tr th {\n",
       "        vertical-align: top;\n",
       "    }\n",
       "\n",
       "    .dataframe thead th {\n",
       "        text-align: right;\n",
       "    }\n",
       "</style>\n",
       "<table border=\"1\" class=\"dataframe\">\n",
       "  <thead>\n",
       "    <tr style=\"text-align: right;\">\n",
       "      <th></th>\n",
       "      <th>age</th>\n",
       "      <th>salary</th>\n",
       "      <th>balance</th>\n",
       "      <th>marital</th>\n",
       "      <th>targeted</th>\n",
       "      <th>default</th>\n",
       "      <th>housing</th>\n",
       "      <th>loan</th>\n",
       "      <th>contact</th>\n",
       "      <th>day</th>\n",
       "      <th>month</th>\n",
       "      <th>duration</th>\n",
       "      <th>campaign</th>\n",
       "      <th>pdays</th>\n",
       "      <th>previous</th>\n",
       "      <th>poutcome</th>\n",
       "      <th>response</th>\n",
       "      <th>job</th>\n",
       "      <th>edu</th>\n",
       "    </tr>\n",
       "  </thead>\n",
       "  <tbody>\n",
       "    <tr>\n",
       "      <th>189</th>\n",
       "      <td>31.0</td>\n",
       "      <td>100000</td>\n",
       "      <td>0</td>\n",
       "      <td>single</td>\n",
       "      <td>no</td>\n",
       "      <td>no</td>\n",
       "      <td>yes</td>\n",
       "      <td>no</td>\n",
       "      <td>unknown</td>\n",
       "      <td>5</td>\n",
       "      <td>NaN</td>\n",
       "      <td>562 sec</td>\n",
       "      <td>1</td>\n",
       "      <td>-1</td>\n",
       "      <td>0</td>\n",
       "      <td>unknown</td>\n",
       "      <td>no</td>\n",
       "      <td>management</td>\n",
       "      <td>tertiary</td>\n",
       "    </tr>\n",
       "    <tr>\n",
       "      <th>769</th>\n",
       "      <td>39.0</td>\n",
       "      <td>20000</td>\n",
       "      <td>245</td>\n",
       "      <td>married</td>\n",
       "      <td>yes</td>\n",
       "      <td>no</td>\n",
       "      <td>yes</td>\n",
       "      <td>no</td>\n",
       "      <td>unknown</td>\n",
       "      <td>7</td>\n",
       "      <td>NaN</td>\n",
       "      <td>148 sec</td>\n",
       "      <td>3</td>\n",
       "      <td>-1</td>\n",
       "      <td>0</td>\n",
       "      <td>unknown</td>\n",
       "      <td>no</td>\n",
       "      <td>blue-collar</td>\n",
       "      <td>primary</td>\n",
       "    </tr>\n",
       "    <tr>\n",
       "      <th>860</th>\n",
       "      <td>33.0</td>\n",
       "      <td>55000</td>\n",
       "      <td>165</td>\n",
       "      <td>married</td>\n",
       "      <td>yes</td>\n",
       "      <td>no</td>\n",
       "      <td>no</td>\n",
       "      <td>no</td>\n",
       "      <td>unknown</td>\n",
       "      <td>7</td>\n",
       "      <td>NaN</td>\n",
       "      <td>111 sec</td>\n",
       "      <td>1</td>\n",
       "      <td>-1</td>\n",
       "      <td>0</td>\n",
       "      <td>unknown</td>\n",
       "      <td>no</td>\n",
       "      <td>retired</td>\n",
       "      <td>secondary</td>\n",
       "    </tr>\n",
       "    <tr>\n",
       "      <th>1267</th>\n",
       "      <td>36.0</td>\n",
       "      <td>50000</td>\n",
       "      <td>114</td>\n",
       "      <td>married</td>\n",
       "      <td>yes</td>\n",
       "      <td>no</td>\n",
       "      <td>yes</td>\n",
       "      <td>yes</td>\n",
       "      <td>unknown</td>\n",
       "      <td>8</td>\n",
       "      <td>NaN</td>\n",
       "      <td>147 sec</td>\n",
       "      <td>1</td>\n",
       "      <td>-1</td>\n",
       "      <td>0</td>\n",
       "      <td>unknown</td>\n",
       "      <td>no</td>\n",
       "      <td>admin.</td>\n",
       "      <td>secondary</td>\n",
       "    </tr>\n",
       "    <tr>\n",
       "      <th>1685</th>\n",
       "      <td>34.0</td>\n",
       "      <td>20000</td>\n",
       "      <td>457</td>\n",
       "      <td>married</td>\n",
       "      <td>yes</td>\n",
       "      <td>no</td>\n",
       "      <td>yes</td>\n",
       "      <td>no</td>\n",
       "      <td>unknown</td>\n",
       "      <td>9</td>\n",
       "      <td>NaN</td>\n",
       "      <td>266 sec</td>\n",
       "      <td>1</td>\n",
       "      <td>-1</td>\n",
       "      <td>0</td>\n",
       "      <td>unknown</td>\n",
       "      <td>no</td>\n",
       "      <td>blue-collar</td>\n",
       "      <td>secondary</td>\n",
       "    </tr>\n",
       "    <tr>\n",
       "      <th>1899</th>\n",
       "      <td>49.0</td>\n",
       "      <td>16000</td>\n",
       "      <td>164</td>\n",
       "      <td>divorced</td>\n",
       "      <td>yes</td>\n",
       "      <td>no</td>\n",
       "      <td>yes</td>\n",
       "      <td>no</td>\n",
       "      <td>unknown</td>\n",
       "      <td>9</td>\n",
       "      <td>NaN</td>\n",
       "      <td>1080 sec</td>\n",
       "      <td>5</td>\n",
       "      <td>-1</td>\n",
       "      <td>0</td>\n",
       "      <td>unknown</td>\n",
       "      <td>no</td>\n",
       "      <td>housemaid</td>\n",
       "      <td>primary</td>\n",
       "    </tr>\n",
       "    <tr>\n",
       "      <th>2433</th>\n",
       "      <td>26.0</td>\n",
       "      <td>60000</td>\n",
       "      <td>3825</td>\n",
       "      <td>married</td>\n",
       "      <td>yes</td>\n",
       "      <td>no</td>\n",
       "      <td>yes</td>\n",
       "      <td>no</td>\n",
       "      <td>unknown</td>\n",
       "      <td>13</td>\n",
       "      <td>NaN</td>\n",
       "      <td>107 sec</td>\n",
       "      <td>1</td>\n",
       "      <td>-1</td>\n",
       "      <td>0</td>\n",
       "      <td>unknown</td>\n",
       "      <td>no</td>\n",
       "      <td>technician</td>\n",
       "      <td>tertiary</td>\n",
       "    </tr>\n",
       "    <tr>\n",
       "      <th>2612</th>\n",
       "      <td>38.0</td>\n",
       "      <td>50000</td>\n",
       "      <td>446</td>\n",
       "      <td>single</td>\n",
       "      <td>no</td>\n",
       "      <td>no</td>\n",
       "      <td>yes</td>\n",
       "      <td>no</td>\n",
       "      <td>unknown</td>\n",
       "      <td>13</td>\n",
       "      <td>NaN</td>\n",
       "      <td>386 sec</td>\n",
       "      <td>1</td>\n",
       "      <td>-1</td>\n",
       "      <td>0</td>\n",
       "      <td>unknown</td>\n",
       "      <td>no</td>\n",
       "      <td>admin.</td>\n",
       "      <td>unknown</td>\n",
       "    </tr>\n",
       "    <tr>\n",
       "      <th>2747</th>\n",
       "      <td>48.0</td>\n",
       "      <td>120000</td>\n",
       "      <td>2550</td>\n",
       "      <td>married</td>\n",
       "      <td>no</td>\n",
       "      <td>no</td>\n",
       "      <td>yes</td>\n",
       "      <td>no</td>\n",
       "      <td>unknown</td>\n",
       "      <td>14</td>\n",
       "      <td>NaN</td>\n",
       "      <td>175 sec</td>\n",
       "      <td>3</td>\n",
       "      <td>-1</td>\n",
       "      <td>0</td>\n",
       "      <td>unknown</td>\n",
       "      <td>no</td>\n",
       "      <td>entrepreneur</td>\n",
       "      <td>unknown</td>\n",
       "    </tr>\n",
       "    <tr>\n",
       "      <th>3556</th>\n",
       "      <td>41.0</td>\n",
       "      <td>20000</td>\n",
       "      <td>59</td>\n",
       "      <td>married</td>\n",
       "      <td>yes</td>\n",
       "      <td>no</td>\n",
       "      <td>yes</td>\n",
       "      <td>no</td>\n",
       "      <td>unknown</td>\n",
       "      <td>15</td>\n",
       "      <td>NaN</td>\n",
       "      <td>75 sec</td>\n",
       "      <td>8</td>\n",
       "      <td>-1</td>\n",
       "      <td>0</td>\n",
       "      <td>unknown</td>\n",
       "      <td>no</td>\n",
       "      <td>blue-collar</td>\n",
       "      <td>secondary</td>\n",
       "    </tr>\n",
       "    <tr>\n",
       "      <th>3890</th>\n",
       "      <td>56.0</td>\n",
       "      <td>55000</td>\n",
       "      <td>4391</td>\n",
       "      <td>married</td>\n",
       "      <td>no</td>\n",
       "      <td>no</td>\n",
       "      <td>yes</td>\n",
       "      <td>no</td>\n",
       "      <td>unknown</td>\n",
       "      <td>16</td>\n",
       "      <td>NaN</td>\n",
       "      <td>291 sec</td>\n",
       "      <td>1</td>\n",
       "      <td>-1</td>\n",
       "      <td>0</td>\n",
       "      <td>unknown</td>\n",
       "      <td>no</td>\n",
       "      <td>retired</td>\n",
       "      <td>unknown</td>\n",
       "    </tr>\n",
       "    <tr>\n",
       "      <th>5311</th>\n",
       "      <td>22.0</td>\n",
       "      <td>20000</td>\n",
       "      <td>0</td>\n",
       "      <td>single</td>\n",
       "      <td>yes</td>\n",
       "      <td>no</td>\n",
       "      <td>yes</td>\n",
       "      <td>no</td>\n",
       "      <td>unknown</td>\n",
       "      <td>23</td>\n",
       "      <td>NaN</td>\n",
       "      <td>816 sec</td>\n",
       "      <td>2</td>\n",
       "      <td>-1</td>\n",
       "      <td>0</td>\n",
       "      <td>unknown</td>\n",
       "      <td>no</td>\n",
       "      <td>blue-collar</td>\n",
       "      <td>secondary</td>\n",
       "    </tr>\n",
       "    <tr>\n",
       "      <th>6265</th>\n",
       "      <td>32.0</td>\n",
       "      <td>50000</td>\n",
       "      <td>13</td>\n",
       "      <td>single</td>\n",
       "      <td>yes</td>\n",
       "      <td>no</td>\n",
       "      <td>yes</td>\n",
       "      <td>no</td>\n",
       "      <td>unknown</td>\n",
       "      <td>27</td>\n",
       "      <td>NaN</td>\n",
       "      <td>88 sec</td>\n",
       "      <td>2</td>\n",
       "      <td>-1</td>\n",
       "      <td>0</td>\n",
       "      <td>unknown</td>\n",
       "      <td>no</td>\n",
       "      <td>admin.</td>\n",
       "      <td>secondary</td>\n",
       "    </tr>\n",
       "    <tr>\n",
       "      <th>6396</th>\n",
       "      <td>24.0</td>\n",
       "      <td>70000</td>\n",
       "      <td>0</td>\n",
       "      <td>married</td>\n",
       "      <td>yes</td>\n",
       "      <td>no</td>\n",
       "      <td>yes</td>\n",
       "      <td>no</td>\n",
       "      <td>unknown</td>\n",
       "      <td>27</td>\n",
       "      <td>NaN</td>\n",
       "      <td>299 sec</td>\n",
       "      <td>1</td>\n",
       "      <td>-1</td>\n",
       "      <td>0</td>\n",
       "      <td>unknown</td>\n",
       "      <td>no</td>\n",
       "      <td>services</td>\n",
       "      <td>tertiary</td>\n",
       "    </tr>\n",
       "    <tr>\n",
       "      <th>8433</th>\n",
       "      <td>38.0</td>\n",
       "      <td>60000</td>\n",
       "      <td>12926</td>\n",
       "      <td>single</td>\n",
       "      <td>yes</td>\n",
       "      <td>no</td>\n",
       "      <td>yes</td>\n",
       "      <td>no</td>\n",
       "      <td>unknown</td>\n",
       "      <td>3</td>\n",
       "      <td>NaN</td>\n",
       "      <td>280 sec</td>\n",
       "      <td>1</td>\n",
       "      <td>-1</td>\n",
       "      <td>0</td>\n",
       "      <td>unknown</td>\n",
       "      <td>no</td>\n",
       "      <td>technician</td>\n",
       "      <td>secondary</td>\n",
       "    </tr>\n",
       "    <tr>\n",
       "      <th>8792</th>\n",
       "      <td>24.0</td>\n",
       "      <td>50000</td>\n",
       "      <td>262</td>\n",
       "      <td>married</td>\n",
       "      <td>yes</td>\n",
       "      <td>no</td>\n",
       "      <td>yes</td>\n",
       "      <td>no</td>\n",
       "      <td>unknown</td>\n",
       "      <td>4</td>\n",
       "      <td>NaN</td>\n",
       "      <td>69 sec</td>\n",
       "      <td>3</td>\n",
       "      <td>-1</td>\n",
       "      <td>0</td>\n",
       "      <td>unknown</td>\n",
       "      <td>no</td>\n",
       "      <td>admin.</td>\n",
       "      <td>secondary</td>\n",
       "    </tr>\n",
       "    <tr>\n",
       "      <th>10627</th>\n",
       "      <td>45.0</td>\n",
       "      <td>60000</td>\n",
       "      <td>533</td>\n",
       "      <td>married</td>\n",
       "      <td>yes</td>\n",
       "      <td>no</td>\n",
       "      <td>yes</td>\n",
       "      <td>no</td>\n",
       "      <td>unknown</td>\n",
       "      <td>16</td>\n",
       "      <td>NaN</td>\n",
       "      <td>332 sec</td>\n",
       "      <td>2</td>\n",
       "      <td>-1</td>\n",
       "      <td>0</td>\n",
       "      <td>unknown</td>\n",
       "      <td>no</td>\n",
       "      <td>technician</td>\n",
       "      <td>tertiary</td>\n",
       "    </tr>\n",
       "    <tr>\n",
       "      <th>11016</th>\n",
       "      <td>46.0</td>\n",
       "      <td>70000</td>\n",
       "      <td>741</td>\n",
       "      <td>married</td>\n",
       "      <td>yes</td>\n",
       "      <td>no</td>\n",
       "      <td>no</td>\n",
       "      <td>no</td>\n",
       "      <td>unknown</td>\n",
       "      <td>17</td>\n",
       "      <td>NaN</td>\n",
       "      <td>161 sec</td>\n",
       "      <td>3</td>\n",
       "      <td>-1</td>\n",
       "      <td>0</td>\n",
       "      <td>unknown</td>\n",
       "      <td>no</td>\n",
       "      <td>services</td>\n",
       "      <td>primary</td>\n",
       "    </tr>\n",
       "    <tr>\n",
       "      <th>11284</th>\n",
       "      <td>44.0</td>\n",
       "      <td>16000</td>\n",
       "      <td>1059</td>\n",
       "      <td>single</td>\n",
       "      <td>yes</td>\n",
       "      <td>no</td>\n",
       "      <td>no</td>\n",
       "      <td>no</td>\n",
       "      <td>unknown</td>\n",
       "      <td>18</td>\n",
       "      <td>NaN</td>\n",
       "      <td>2093 sec</td>\n",
       "      <td>1</td>\n",
       "      <td>-1</td>\n",
       "      <td>0</td>\n",
       "      <td>unknown</td>\n",
       "      <td>yes</td>\n",
       "      <td>housemaid</td>\n",
       "      <td>primary</td>\n",
       "    </tr>\n",
       "    <tr>\n",
       "      <th>11394</th>\n",
       "      <td>54.0</td>\n",
       "      <td>60000</td>\n",
       "      <td>415</td>\n",
       "      <td>married</td>\n",
       "      <td>yes</td>\n",
       "      <td>no</td>\n",
       "      <td>yes</td>\n",
       "      <td>no</td>\n",
       "      <td>unknown</td>\n",
       "      <td>19</td>\n",
       "      <td>NaN</td>\n",
       "      <td>34 sec</td>\n",
       "      <td>31</td>\n",
       "      <td>-1</td>\n",
       "      <td>0</td>\n",
       "      <td>unknown</td>\n",
       "      <td>no</td>\n",
       "      <td>technician</td>\n",
       "      <td>secondary</td>\n",
       "    </tr>\n",
       "    <tr>\n",
       "      <th>14502</th>\n",
       "      <td>35.0</td>\n",
       "      <td>70000</td>\n",
       "      <td>819</td>\n",
       "      <td>married</td>\n",
       "      <td>yes</td>\n",
       "      <td>no</td>\n",
       "      <td>yes</td>\n",
       "      <td>no</td>\n",
       "      <td>telephone</td>\n",
       "      <td>14</td>\n",
       "      <td>NaN</td>\n",
       "      <td>1.7 min</td>\n",
       "      <td>14</td>\n",
       "      <td>-1</td>\n",
       "      <td>0</td>\n",
       "      <td>unknown</td>\n",
       "      <td>no</td>\n",
       "      <td>services</td>\n",
       "      <td>secondary</td>\n",
       "    </tr>\n",
       "    <tr>\n",
       "      <th>15795</th>\n",
       "      <td>38.0</td>\n",
       "      <td>20000</td>\n",
       "      <td>-41</td>\n",
       "      <td>married</td>\n",
       "      <td>yes</td>\n",
       "      <td>no</td>\n",
       "      <td>yes</td>\n",
       "      <td>no</td>\n",
       "      <td>cellular</td>\n",
       "      <td>21</td>\n",
       "      <td>NaN</td>\n",
       "      <td>1.13333333333333 min</td>\n",
       "      <td>10</td>\n",
       "      <td>-1</td>\n",
       "      <td>0</td>\n",
       "      <td>unknown</td>\n",
       "      <td>no</td>\n",
       "      <td>blue-collar</td>\n",
       "      <td>primary</td>\n",
       "    </tr>\n",
       "    <tr>\n",
       "      <th>16023</th>\n",
       "      <td>35.0</td>\n",
       "      <td>60000</td>\n",
       "      <td>328</td>\n",
       "      <td>married</td>\n",
       "      <td>yes</td>\n",
       "      <td>no</td>\n",
       "      <td>yes</td>\n",
       "      <td>no</td>\n",
       "      <td>cellular</td>\n",
       "      <td>22</td>\n",
       "      <td>NaN</td>\n",
       "      <td>10.9 min</td>\n",
       "      <td>2</td>\n",
       "      <td>-1</td>\n",
       "      <td>0</td>\n",
       "      <td>unknown</td>\n",
       "      <td>yes</td>\n",
       "      <td>technician</td>\n",
       "      <td>tertiary</td>\n",
       "    </tr>\n",
       "    <tr>\n",
       "      <th>16850</th>\n",
       "      <td>45.0</td>\n",
       "      <td>55000</td>\n",
       "      <td>25</td>\n",
       "      <td>married</td>\n",
       "      <td>yes</td>\n",
       "      <td>no</td>\n",
       "      <td>no</td>\n",
       "      <td>yes</td>\n",
       "      <td>cellular</td>\n",
       "      <td>25</td>\n",
       "      <td>NaN</td>\n",
       "      <td>1.91666666666667 min</td>\n",
       "      <td>3</td>\n",
       "      <td>-1</td>\n",
       "      <td>0</td>\n",
       "      <td>unknown</td>\n",
       "      <td>no</td>\n",
       "      <td>retired</td>\n",
       "      <td>primary</td>\n",
       "    </tr>\n",
       "    <tr>\n",
       "      <th>17568</th>\n",
       "      <td>56.0</td>\n",
       "      <td>70000</td>\n",
       "      <td>0</td>\n",
       "      <td>married</td>\n",
       "      <td>no</td>\n",
       "      <td>no</td>\n",
       "      <td>no</td>\n",
       "      <td>no</td>\n",
       "      <td>cellular</td>\n",
       "      <td>29</td>\n",
       "      <td>NaN</td>\n",
       "      <td>1.38333333333333 min</td>\n",
       "      <td>2</td>\n",
       "      <td>-1</td>\n",
       "      <td>0</td>\n",
       "      <td>unknown</td>\n",
       "      <td>no</td>\n",
       "      <td>services</td>\n",
       "      <td>unknown</td>\n",
       "    </tr>\n",
       "    <tr>\n",
       "      <th>18431</th>\n",
       "      <td>42.0</td>\n",
       "      <td>70000</td>\n",
       "      <td>247</td>\n",
       "      <td>single</td>\n",
       "      <td>yes</td>\n",
       "      <td>no</td>\n",
       "      <td>yes</td>\n",
       "      <td>no</td>\n",
       "      <td>cellular</td>\n",
       "      <td>31</td>\n",
       "      <td>NaN</td>\n",
       "      <td>1.9 min</td>\n",
       "      <td>2</td>\n",
       "      <td>-1</td>\n",
       "      <td>0</td>\n",
       "      <td>unknown</td>\n",
       "      <td>no</td>\n",
       "      <td>services</td>\n",
       "      <td>secondary</td>\n",
       "    </tr>\n",
       "    <tr>\n",
       "      <th>18942</th>\n",
       "      <td>49.0</td>\n",
       "      <td>50000</td>\n",
       "      <td>949</td>\n",
       "      <td>married</td>\n",
       "      <td>yes</td>\n",
       "      <td>no</td>\n",
       "      <td>no</td>\n",
       "      <td>no</td>\n",
       "      <td>cellular</td>\n",
       "      <td>4</td>\n",
       "      <td>NaN</td>\n",
       "      <td>1.51666666666667 min</td>\n",
       "      <td>1</td>\n",
       "      <td>-1</td>\n",
       "      <td>0</td>\n",
       "      <td>unknown</td>\n",
       "      <td>no</td>\n",
       "      <td>admin.</td>\n",
       "      <td>secondary</td>\n",
       "    </tr>\n",
       "    <tr>\n",
       "      <th>19118</th>\n",
       "      <td>38.0</td>\n",
       "      <td>50000</td>\n",
       "      <td>1980</td>\n",
       "      <td>married</td>\n",
       "      <td>yes</td>\n",
       "      <td>no</td>\n",
       "      <td>no</td>\n",
       "      <td>no</td>\n",
       "      <td>cellular</td>\n",
       "      <td>5</td>\n",
       "      <td>NaN</td>\n",
       "      <td>2.93333333333333 min</td>\n",
       "      <td>2</td>\n",
       "      <td>-1</td>\n",
       "      <td>0</td>\n",
       "      <td>unknown</td>\n",
       "      <td>no</td>\n",
       "      <td>admin.</td>\n",
       "      <td>tertiary</td>\n",
       "    </tr>\n",
       "    <tr>\n",
       "      <th>19769</th>\n",
       "      <td>36.0</td>\n",
       "      <td>100000</td>\n",
       "      <td>162</td>\n",
       "      <td>married</td>\n",
       "      <td>yes</td>\n",
       "      <td>no</td>\n",
       "      <td>yes</td>\n",
       "      <td>no</td>\n",
       "      <td>cellular</td>\n",
       "      <td>8</td>\n",
       "      <td>NaN</td>\n",
       "      <td>1.25 min</td>\n",
       "      <td>2</td>\n",
       "      <td>-1</td>\n",
       "      <td>0</td>\n",
       "      <td>unknown</td>\n",
       "      <td>no</td>\n",
       "      <td>management</td>\n",
       "      <td>tertiary</td>\n",
       "    </tr>\n",
       "    <tr>\n",
       "      <th>21777</th>\n",
       "      <td>56.0</td>\n",
       "      <td>16000</td>\n",
       "      <td>605</td>\n",
       "      <td>married</td>\n",
       "      <td>yes</td>\n",
       "      <td>no</td>\n",
       "      <td>no</td>\n",
       "      <td>no</td>\n",
       "      <td>cellular</td>\n",
       "      <td>19</td>\n",
       "      <td>NaN</td>\n",
       "      <td>3.45 min</td>\n",
       "      <td>6</td>\n",
       "      <td>-1</td>\n",
       "      <td>0</td>\n",
       "      <td>unknown</td>\n",
       "      <td>no</td>\n",
       "      <td>housemaid</td>\n",
       "      <td>primary</td>\n",
       "    </tr>\n",
       "    <tr>\n",
       "      <th>21962</th>\n",
       "      <td>36.0</td>\n",
       "      <td>60000</td>\n",
       "      <td>1044</td>\n",
       "      <td>single</td>\n",
       "      <td>yes</td>\n",
       "      <td>no</td>\n",
       "      <td>yes</td>\n",
       "      <td>no</td>\n",
       "      <td>cellular</td>\n",
       "      <td>20</td>\n",
       "      <td>NaN</td>\n",
       "      <td>0.25 min</td>\n",
       "      <td>19</td>\n",
       "      <td>-1</td>\n",
       "      <td>0</td>\n",
       "      <td>unknown</td>\n",
       "      <td>no</td>\n",
       "      <td>technician</td>\n",
       "      <td>secondary</td>\n",
       "    </tr>\n",
       "    <tr>\n",
       "      <th>23897</th>\n",
       "      <td>46.0</td>\n",
       "      <td>20000</td>\n",
       "      <td>123</td>\n",
       "      <td>married</td>\n",
       "      <td>yes</td>\n",
       "      <td>no</td>\n",
       "      <td>no</td>\n",
       "      <td>no</td>\n",
       "      <td>cellular</td>\n",
       "      <td>29</td>\n",
       "      <td>NaN</td>\n",
       "      <td>2.8 min</td>\n",
       "      <td>2</td>\n",
       "      <td>-1</td>\n",
       "      <td>0</td>\n",
       "      <td>unknown</td>\n",
       "      <td>no</td>\n",
       "      <td>blue-collar</td>\n",
       "      <td>primary</td>\n",
       "    </tr>\n",
       "    <tr>\n",
       "      <th>25658</th>\n",
       "      <td>35.0</td>\n",
       "      <td>60000</td>\n",
       "      <td>8647</td>\n",
       "      <td>married</td>\n",
       "      <td>yes</td>\n",
       "      <td>no</td>\n",
       "      <td>no</td>\n",
       "      <td>no</td>\n",
       "      <td>cellular</td>\n",
       "      <td>19</td>\n",
       "      <td>NaN</td>\n",
       "      <td>2.33333333333333 min</td>\n",
       "      <td>2</td>\n",
       "      <td>-1</td>\n",
       "      <td>0</td>\n",
       "      <td>unknown</td>\n",
       "      <td>no</td>\n",
       "      <td>self-employed</td>\n",
       "      <td>tertiary</td>\n",
       "    </tr>\n",
       "    <tr>\n",
       "      <th>27480</th>\n",
       "      <td>31.0</td>\n",
       "      <td>100000</td>\n",
       "      <td>3283</td>\n",
       "      <td>single</td>\n",
       "      <td>no</td>\n",
       "      <td>no</td>\n",
       "      <td>no</td>\n",
       "      <td>no</td>\n",
       "      <td>cellular</td>\n",
       "      <td>21</td>\n",
       "      <td>NaN</td>\n",
       "      <td>6.28333333333333 min</td>\n",
       "      <td>1</td>\n",
       "      <td>-1</td>\n",
       "      <td>0</td>\n",
       "      <td>unknown</td>\n",
       "      <td>no</td>\n",
       "      <td>management</td>\n",
       "      <td>tertiary</td>\n",
       "    </tr>\n",
       "    <tr>\n",
       "      <th>28693</th>\n",
       "      <td>26.0</td>\n",
       "      <td>16000</td>\n",
       "      <td>543</td>\n",
       "      <td>married</td>\n",
       "      <td>yes</td>\n",
       "      <td>no</td>\n",
       "      <td>no</td>\n",
       "      <td>no</td>\n",
       "      <td>cellular</td>\n",
       "      <td>30</td>\n",
       "      <td>NaN</td>\n",
       "      <td>2.81666666666667 min</td>\n",
       "      <td>3</td>\n",
       "      <td>-1</td>\n",
       "      <td>0</td>\n",
       "      <td>unknown</td>\n",
       "      <td>no</td>\n",
       "      <td>housemaid</td>\n",
       "      <td>tertiary</td>\n",
       "    </tr>\n",
       "    <tr>\n",
       "      <th>30740</th>\n",
       "      <td>32.0</td>\n",
       "      <td>100000</td>\n",
       "      <td>2770</td>\n",
       "      <td>single</td>\n",
       "      <td>no</td>\n",
       "      <td>no</td>\n",
       "      <td>no</td>\n",
       "      <td>no</td>\n",
       "      <td>telephone</td>\n",
       "      <td>6</td>\n",
       "      <td>NaN</td>\n",
       "      <td>0.733333333333333 min</td>\n",
       "      <td>9</td>\n",
       "      <td>-1</td>\n",
       "      <td>0</td>\n",
       "      <td>unknown</td>\n",
       "      <td>no</td>\n",
       "      <td>management</td>\n",
       "      <td>tertiary</td>\n",
       "    </tr>\n",
       "    <tr>\n",
       "      <th>31551</th>\n",
       "      <td>54.0</td>\n",
       "      <td>55000</td>\n",
       "      <td>136</td>\n",
       "      <td>married</td>\n",
       "      <td>yes</td>\n",
       "      <td>no</td>\n",
       "      <td>yes</td>\n",
       "      <td>no</td>\n",
       "      <td>cellular</td>\n",
       "      <td>3</td>\n",
       "      <td>NaN</td>\n",
       "      <td>5.86666666666667 min</td>\n",
       "      <td>1</td>\n",
       "      <td>332</td>\n",
       "      <td>2</td>\n",
       "      <td>failure</td>\n",
       "      <td>no</td>\n",
       "      <td>retired</td>\n",
       "      <td>primary</td>\n",
       "    </tr>\n",
       "    <tr>\n",
       "      <th>35773</th>\n",
       "      <td>52.0</td>\n",
       "      <td>20000</td>\n",
       "      <td>33</td>\n",
       "      <td>married</td>\n",
       "      <td>no</td>\n",
       "      <td>no</td>\n",
       "      <td>no</td>\n",
       "      <td>no</td>\n",
       "      <td>telephone</td>\n",
       "      <td>8</td>\n",
       "      <td>NaN</td>\n",
       "      <td>5.01666666666667 min</td>\n",
       "      <td>1</td>\n",
       "      <td>-1</td>\n",
       "      <td>0</td>\n",
       "      <td>unknown</td>\n",
       "      <td>no</td>\n",
       "      <td>blue-collar</td>\n",
       "      <td>unknown</td>\n",
       "    </tr>\n",
       "    <tr>\n",
       "      <th>37194</th>\n",
       "      <td>36.0</td>\n",
       "      <td>20000</td>\n",
       "      <td>1969</td>\n",
       "      <td>married</td>\n",
       "      <td>yes</td>\n",
       "      <td>no</td>\n",
       "      <td>yes</td>\n",
       "      <td>yes</td>\n",
       "      <td>cellular</td>\n",
       "      <td>13</td>\n",
       "      <td>NaN</td>\n",
       "      <td>1.45 min</td>\n",
       "      <td>1</td>\n",
       "      <td>-1</td>\n",
       "      <td>0</td>\n",
       "      <td>unknown</td>\n",
       "      <td>no</td>\n",
       "      <td>blue-collar</td>\n",
       "      <td>secondary</td>\n",
       "    </tr>\n",
       "    <tr>\n",
       "      <th>37819</th>\n",
       "      <td>34.0</td>\n",
       "      <td>20000</td>\n",
       "      <td>237</td>\n",
       "      <td>married</td>\n",
       "      <td>yes</td>\n",
       "      <td>no</td>\n",
       "      <td>yes</td>\n",
       "      <td>no</td>\n",
       "      <td>cellular</td>\n",
       "      <td>14</td>\n",
       "      <td>NaN</td>\n",
       "      <td>1.91666666666667 min</td>\n",
       "      <td>3</td>\n",
       "      <td>-1</td>\n",
       "      <td>0</td>\n",
       "      <td>unknown</td>\n",
       "      <td>no</td>\n",
       "      <td>blue-collar</td>\n",
       "      <td>secondary</td>\n",
       "    </tr>\n",
       "    <tr>\n",
       "      <th>38158</th>\n",
       "      <td>34.0</td>\n",
       "      <td>60000</td>\n",
       "      <td>1317</td>\n",
       "      <td>divorced</td>\n",
       "      <td>no</td>\n",
       "      <td>no</td>\n",
       "      <td>yes</td>\n",
       "      <td>no</td>\n",
       "      <td>cellular</td>\n",
       "      <td>15</td>\n",
       "      <td>NaN</td>\n",
       "      <td>3.98333333333333 min</td>\n",
       "      <td>1</td>\n",
       "      <td>-1</td>\n",
       "      <td>0</td>\n",
       "      <td>unknown</td>\n",
       "      <td>no</td>\n",
       "      <td>technician</td>\n",
       "      <td>tertiary</td>\n",
       "    </tr>\n",
       "    <tr>\n",
       "      <th>39188</th>\n",
       "      <td>30.0</td>\n",
       "      <td>60000</td>\n",
       "      <td>778</td>\n",
       "      <td>single</td>\n",
       "      <td>yes</td>\n",
       "      <td>no</td>\n",
       "      <td>yes</td>\n",
       "      <td>no</td>\n",
       "      <td>cellular</td>\n",
       "      <td>18</td>\n",
       "      <td>NaN</td>\n",
       "      <td>0.366666666666667 min</td>\n",
       "      <td>2</td>\n",
       "      <td>346</td>\n",
       "      <td>2</td>\n",
       "      <td>failure</td>\n",
       "      <td>no</td>\n",
       "      <td>technician</td>\n",
       "      <td>secondary</td>\n",
       "    </tr>\n",
       "    <tr>\n",
       "      <th>41090</th>\n",
       "      <td>35.0</td>\n",
       "      <td>100000</td>\n",
       "      <td>7218</td>\n",
       "      <td>single</td>\n",
       "      <td>no</td>\n",
       "      <td>no</td>\n",
       "      <td>no</td>\n",
       "      <td>no</td>\n",
       "      <td>cellular</td>\n",
       "      <td>14</td>\n",
       "      <td>NaN</td>\n",
       "      <td>3.73333333333333 min</td>\n",
       "      <td>3</td>\n",
       "      <td>-1</td>\n",
       "      <td>0</td>\n",
       "      <td>unknown</td>\n",
       "      <td>no</td>\n",
       "      <td>management</td>\n",
       "      <td>tertiary</td>\n",
       "    </tr>\n",
       "    <tr>\n",
       "      <th>41434</th>\n",
       "      <td>43.0</td>\n",
       "      <td>100000</td>\n",
       "      <td>13450</td>\n",
       "      <td>married</td>\n",
       "      <td>yes</td>\n",
       "      <td>no</td>\n",
       "      <td>yes</td>\n",
       "      <td>no</td>\n",
       "      <td>cellular</td>\n",
       "      <td>4</td>\n",
       "      <td>NaN</td>\n",
       "      <td>2.13333333333333 min</td>\n",
       "      <td>1</td>\n",
       "      <td>-1</td>\n",
       "      <td>0</td>\n",
       "      <td>unknown</td>\n",
       "      <td>no</td>\n",
       "      <td>management</td>\n",
       "      <td>tertiary</td>\n",
       "    </tr>\n",
       "    <tr>\n",
       "      <th>41606</th>\n",
       "      <td>25.0</td>\n",
       "      <td>100000</td>\n",
       "      <td>808</td>\n",
       "      <td>single</td>\n",
       "      <td>no</td>\n",
       "      <td>no</td>\n",
       "      <td>no</td>\n",
       "      <td>no</td>\n",
       "      <td>cellular</td>\n",
       "      <td>18</td>\n",
       "      <td>NaN</td>\n",
       "      <td>4.45 min</td>\n",
       "      <td>2</td>\n",
       "      <td>114</td>\n",
       "      <td>2</td>\n",
       "      <td>failure</td>\n",
       "      <td>yes</td>\n",
       "      <td>management</td>\n",
       "      <td>tertiary</td>\n",
       "    </tr>\n",
       "    <tr>\n",
       "      <th>43001</th>\n",
       "      <td>35.0</td>\n",
       "      <td>60000</td>\n",
       "      <td>353</td>\n",
       "      <td>single</td>\n",
       "      <td>no</td>\n",
       "      <td>no</td>\n",
       "      <td>no</td>\n",
       "      <td>no</td>\n",
       "      <td>cellular</td>\n",
       "      <td>11</td>\n",
       "      <td>NaN</td>\n",
       "      <td>5.86666666666667 min</td>\n",
       "      <td>1</td>\n",
       "      <td>183</td>\n",
       "      <td>1</td>\n",
       "      <td>success</td>\n",
       "      <td>yes</td>\n",
       "      <td>self-employed</td>\n",
       "      <td>tertiary</td>\n",
       "    </tr>\n",
       "    <tr>\n",
       "      <th>43021</th>\n",
       "      <td>52.0</td>\n",
       "      <td>100000</td>\n",
       "      <td>4675</td>\n",
       "      <td>married</td>\n",
       "      <td>yes</td>\n",
       "      <td>no</td>\n",
       "      <td>no</td>\n",
       "      <td>no</td>\n",
       "      <td>cellular</td>\n",
       "      <td>12</td>\n",
       "      <td>NaN</td>\n",
       "      <td>3.01666666666667 min</td>\n",
       "      <td>3</td>\n",
       "      <td>-1</td>\n",
       "      <td>0</td>\n",
       "      <td>unknown</td>\n",
       "      <td>yes</td>\n",
       "      <td>management</td>\n",
       "      <td>tertiary</td>\n",
       "    </tr>\n",
       "    <tr>\n",
       "      <th>43323</th>\n",
       "      <td>54.0</td>\n",
       "      <td>70000</td>\n",
       "      <td>0</td>\n",
       "      <td>divorced</td>\n",
       "      <td>yes</td>\n",
       "      <td>no</td>\n",
       "      <td>no</td>\n",
       "      <td>no</td>\n",
       "      <td>cellular</td>\n",
       "      <td>18</td>\n",
       "      <td>NaN</td>\n",
       "      <td>6.03333333333333 min</td>\n",
       "      <td>1</td>\n",
       "      <td>290</td>\n",
       "      <td>3</td>\n",
       "      <td>success</td>\n",
       "      <td>yes</td>\n",
       "      <td>services</td>\n",
       "      <td>secondary</td>\n",
       "    </tr>\n",
       "    <tr>\n",
       "      <th>44131</th>\n",
       "      <td>27.0</td>\n",
       "      <td>100000</td>\n",
       "      <td>843</td>\n",
       "      <td>single</td>\n",
       "      <td>yes</td>\n",
       "      <td>no</td>\n",
       "      <td>no</td>\n",
       "      <td>no</td>\n",
       "      <td>cellular</td>\n",
       "      <td>12</td>\n",
       "      <td>NaN</td>\n",
       "      <td>2.05 min</td>\n",
       "      <td>2</td>\n",
       "      <td>185</td>\n",
       "      <td>1</td>\n",
       "      <td>success</td>\n",
       "      <td>no</td>\n",
       "      <td>management</td>\n",
       "      <td>secondary</td>\n",
       "    </tr>\n",
       "    <tr>\n",
       "      <th>44732</th>\n",
       "      <td>23.0</td>\n",
       "      <td>4000</td>\n",
       "      <td>508</td>\n",
       "      <td>single</td>\n",
       "      <td>no</td>\n",
       "      <td>no</td>\n",
       "      <td>no</td>\n",
       "      <td>no</td>\n",
       "      <td>cellular</td>\n",
       "      <td>8</td>\n",
       "      <td>NaN</td>\n",
       "      <td>3.5 min</td>\n",
       "      <td>1</td>\n",
       "      <td>92</td>\n",
       "      <td>1</td>\n",
       "      <td>failure</td>\n",
       "      <td>no</td>\n",
       "      <td>student</td>\n",
       "      <td>tertiary</td>\n",
       "    </tr>\n",
       "  </tbody>\n",
       "</table>\n",
       "</div>"
      ],
      "text/plain": [
       "        age  salary  balance   marital targeted default housing loan  \\\n",
       "189    31.0  100000        0    single       no      no     yes   no   \n",
       "769    39.0   20000      245   married      yes      no     yes   no   \n",
       "860    33.0   55000      165   married      yes      no      no   no   \n",
       "1267   36.0   50000      114   married      yes      no     yes  yes   \n",
       "1685   34.0   20000      457   married      yes      no     yes   no   \n",
       "1899   49.0   16000      164  divorced      yes      no     yes   no   \n",
       "2433   26.0   60000     3825   married      yes      no     yes   no   \n",
       "2612   38.0   50000      446    single       no      no     yes   no   \n",
       "2747   48.0  120000     2550   married       no      no     yes   no   \n",
       "3556   41.0   20000       59   married      yes      no     yes   no   \n",
       "3890   56.0   55000     4391   married       no      no     yes   no   \n",
       "5311   22.0   20000        0    single      yes      no     yes   no   \n",
       "6265   32.0   50000       13    single      yes      no     yes   no   \n",
       "6396   24.0   70000        0   married      yes      no     yes   no   \n",
       "8433   38.0   60000    12926    single      yes      no     yes   no   \n",
       "8792   24.0   50000      262   married      yes      no     yes   no   \n",
       "10627  45.0   60000      533   married      yes      no     yes   no   \n",
       "11016  46.0   70000      741   married      yes      no      no   no   \n",
       "11284  44.0   16000     1059    single      yes      no      no   no   \n",
       "11394  54.0   60000      415   married      yes      no     yes   no   \n",
       "14502  35.0   70000      819   married      yes      no     yes   no   \n",
       "15795  38.0   20000      -41   married      yes      no     yes   no   \n",
       "16023  35.0   60000      328   married      yes      no     yes   no   \n",
       "16850  45.0   55000       25   married      yes      no      no  yes   \n",
       "17568  56.0   70000        0   married       no      no      no   no   \n",
       "18431  42.0   70000      247    single      yes      no     yes   no   \n",
       "18942  49.0   50000      949   married      yes      no      no   no   \n",
       "19118  38.0   50000     1980   married      yes      no      no   no   \n",
       "19769  36.0  100000      162   married      yes      no     yes   no   \n",
       "21777  56.0   16000      605   married      yes      no      no   no   \n",
       "21962  36.0   60000     1044    single      yes      no     yes   no   \n",
       "23897  46.0   20000      123   married      yes      no      no   no   \n",
       "25658  35.0   60000     8647   married      yes      no      no   no   \n",
       "27480  31.0  100000     3283    single       no      no      no   no   \n",
       "28693  26.0   16000      543   married      yes      no      no   no   \n",
       "30740  32.0  100000     2770    single       no      no      no   no   \n",
       "31551  54.0   55000      136   married      yes      no     yes   no   \n",
       "35773  52.0   20000       33   married       no      no      no   no   \n",
       "37194  36.0   20000     1969   married      yes      no     yes  yes   \n",
       "37819  34.0   20000      237   married      yes      no     yes   no   \n",
       "38158  34.0   60000     1317  divorced       no      no     yes   no   \n",
       "39188  30.0   60000      778    single      yes      no     yes   no   \n",
       "41090  35.0  100000     7218    single       no      no      no   no   \n",
       "41434  43.0  100000    13450   married      yes      no     yes   no   \n",
       "41606  25.0  100000      808    single       no      no      no   no   \n",
       "43001  35.0   60000      353    single       no      no      no   no   \n",
       "43021  52.0  100000     4675   married      yes      no      no   no   \n",
       "43323  54.0   70000        0  divorced      yes      no      no   no   \n",
       "44131  27.0  100000      843    single      yes      no      no   no   \n",
       "44732  23.0    4000      508    single       no      no      no   no   \n",
       "\n",
       "         contact  day month               duration  campaign  pdays  previous  \\\n",
       "189      unknown    5   NaN                562 sec         1     -1         0   \n",
       "769      unknown    7   NaN                148 sec         3     -1         0   \n",
       "860      unknown    7   NaN                111 sec         1     -1         0   \n",
       "1267     unknown    8   NaN                147 sec         1     -1         0   \n",
       "1685     unknown    9   NaN                266 sec         1     -1         0   \n",
       "1899     unknown    9   NaN               1080 sec         5     -1         0   \n",
       "2433     unknown   13   NaN                107 sec         1     -1         0   \n",
       "2612     unknown   13   NaN                386 sec         1     -1         0   \n",
       "2747     unknown   14   NaN                175 sec         3     -1         0   \n",
       "3556     unknown   15   NaN                 75 sec         8     -1         0   \n",
       "3890     unknown   16   NaN                291 sec         1     -1         0   \n",
       "5311     unknown   23   NaN                816 sec         2     -1         0   \n",
       "6265     unknown   27   NaN                 88 sec         2     -1         0   \n",
       "6396     unknown   27   NaN                299 sec         1     -1         0   \n",
       "8433     unknown    3   NaN                280 sec         1     -1         0   \n",
       "8792     unknown    4   NaN                 69 sec         3     -1         0   \n",
       "10627    unknown   16   NaN                332 sec         2     -1         0   \n",
       "11016    unknown   17   NaN                161 sec         3     -1         0   \n",
       "11284    unknown   18   NaN               2093 sec         1     -1         0   \n",
       "11394    unknown   19   NaN                 34 sec        31     -1         0   \n",
       "14502  telephone   14   NaN                1.7 min        14     -1         0   \n",
       "15795   cellular   21   NaN   1.13333333333333 min        10     -1         0   \n",
       "16023   cellular   22   NaN               10.9 min         2     -1         0   \n",
       "16850   cellular   25   NaN   1.91666666666667 min         3     -1         0   \n",
       "17568   cellular   29   NaN   1.38333333333333 min         2     -1         0   \n",
       "18431   cellular   31   NaN                1.9 min         2     -1         0   \n",
       "18942   cellular    4   NaN   1.51666666666667 min         1     -1         0   \n",
       "19118   cellular    5   NaN   2.93333333333333 min         2     -1         0   \n",
       "19769   cellular    8   NaN               1.25 min         2     -1         0   \n",
       "21777   cellular   19   NaN               3.45 min         6     -1         0   \n",
       "21962   cellular   20   NaN               0.25 min        19     -1         0   \n",
       "23897   cellular   29   NaN                2.8 min         2     -1         0   \n",
       "25658   cellular   19   NaN   2.33333333333333 min         2     -1         0   \n",
       "27480   cellular   21   NaN   6.28333333333333 min         1     -1         0   \n",
       "28693   cellular   30   NaN   2.81666666666667 min         3     -1         0   \n",
       "30740  telephone    6   NaN  0.733333333333333 min         9     -1         0   \n",
       "31551   cellular    3   NaN   5.86666666666667 min         1    332         2   \n",
       "35773  telephone    8   NaN   5.01666666666667 min         1     -1         0   \n",
       "37194   cellular   13   NaN               1.45 min         1     -1         0   \n",
       "37819   cellular   14   NaN   1.91666666666667 min         3     -1         0   \n",
       "38158   cellular   15   NaN   3.98333333333333 min         1     -1         0   \n",
       "39188   cellular   18   NaN  0.366666666666667 min         2    346         2   \n",
       "41090   cellular   14   NaN   3.73333333333333 min         3     -1         0   \n",
       "41434   cellular    4   NaN   2.13333333333333 min         1     -1         0   \n",
       "41606   cellular   18   NaN               4.45 min         2    114         2   \n",
       "43001   cellular   11   NaN   5.86666666666667 min         1    183         1   \n",
       "43021   cellular   12   NaN   3.01666666666667 min         3     -1         0   \n",
       "43323   cellular   18   NaN   6.03333333333333 min         1    290         3   \n",
       "44131   cellular   12   NaN               2.05 min         2    185         1   \n",
       "44732   cellular    8   NaN                3.5 min         1     92         1   \n",
       "\n",
       "      poutcome response            job        edu  \n",
       "189    unknown       no     management   tertiary  \n",
       "769    unknown       no    blue-collar    primary  \n",
       "860    unknown       no        retired  secondary  \n",
       "1267   unknown       no         admin.  secondary  \n",
       "1685   unknown       no    blue-collar  secondary  \n",
       "1899   unknown       no      housemaid    primary  \n",
       "2433   unknown       no     technician   tertiary  \n",
       "2612   unknown       no         admin.    unknown  \n",
       "2747   unknown       no   entrepreneur    unknown  \n",
       "3556   unknown       no    blue-collar  secondary  \n",
       "3890   unknown       no        retired    unknown  \n",
       "5311   unknown       no    blue-collar  secondary  \n",
       "6265   unknown       no         admin.  secondary  \n",
       "6396   unknown       no       services   tertiary  \n",
       "8433   unknown       no     technician  secondary  \n",
       "8792   unknown       no         admin.  secondary  \n",
       "10627  unknown       no     technician   tertiary  \n",
       "11016  unknown       no       services    primary  \n",
       "11284  unknown      yes      housemaid    primary  \n",
       "11394  unknown       no     technician  secondary  \n",
       "14502  unknown       no       services  secondary  \n",
       "15795  unknown       no    blue-collar    primary  \n",
       "16023  unknown      yes     technician   tertiary  \n",
       "16850  unknown       no        retired    primary  \n",
       "17568  unknown       no       services    unknown  \n",
       "18431  unknown       no       services  secondary  \n",
       "18942  unknown       no         admin.  secondary  \n",
       "19118  unknown       no         admin.   tertiary  \n",
       "19769  unknown       no     management   tertiary  \n",
       "21777  unknown       no      housemaid    primary  \n",
       "21962  unknown       no     technician  secondary  \n",
       "23897  unknown       no    blue-collar    primary  \n",
       "25658  unknown       no  self-employed   tertiary  \n",
       "27480  unknown       no     management   tertiary  \n",
       "28693  unknown       no      housemaid   tertiary  \n",
       "30740  unknown       no     management   tertiary  \n",
       "31551  failure       no        retired    primary  \n",
       "35773  unknown       no    blue-collar    unknown  \n",
       "37194  unknown       no    blue-collar  secondary  \n",
       "37819  unknown       no    blue-collar  secondary  \n",
       "38158  unknown       no     technician   tertiary  \n",
       "39188  failure       no     technician  secondary  \n",
       "41090  unknown       no     management   tertiary  \n",
       "41434  unknown       no     management   tertiary  \n",
       "41606  failure      yes     management   tertiary  \n",
       "43001  success      yes  self-employed   tertiary  \n",
       "43021  unknown      yes     management   tertiary  \n",
       "43323  success      yes       services  secondary  \n",
       "44131  success       no     management  secondary  \n",
       "44732  failure       no        student   tertiary  "
      ]
     },
     "execution_count": 10,
     "metadata": {},
     "output_type": "execute_result"
    }
   ],
   "source": [
    "inp0[inp0.month.apply(lambda x: isinstance(x,float))==True]"
   ]
  },
  {
   "cell_type": "markdown",
   "metadata": {},
   "source": [
    "We can see above that there are some values NaN, which means this column has missing values and therefore it is trating these as float."
   ]
  },
  {
   "cell_type": "markdown",
   "metadata": {},
   "source": [
    "#### Let's check for the missing values."
   ]
  },
  {
   "cell_type": "code",
   "execution_count": 11,
   "metadata": {},
   "outputs": [
    {
     "data": {
      "text/plain": [
       "age         20\n",
       "salary       0\n",
       "balance      0\n",
       "marital      0\n",
       "targeted     0\n",
       "default      0\n",
       "housing      0\n",
       "loan         0\n",
       "contact      0\n",
       "day          0\n",
       "month       50\n",
       "duration     0\n",
       "campaign     0\n",
       "pdays        0\n",
       "previous     0\n",
       "poutcome     0\n",
       "response    30\n",
       "job          0\n",
       "edu          0\n",
       "dtype: int64"
      ]
     },
     "execution_count": 11,
     "metadata": {},
     "output_type": "execute_result"
    }
   ],
   "source": [
    "inp0.isnull().sum()"
   ]
  },
  {
   "cell_type": "markdown",
   "metadata": {},
   "source": [
    "### Handling Missing Values"
   ]
  },
  {
   "cell_type": "code",
   "execution_count": 12,
   "metadata": {},
   "outputs": [
    {
     "data": {
      "text/plain": [
       "20"
      ]
     },
     "execution_count": 12,
     "metadata": {},
     "output_type": "execute_result"
    }
   ],
   "source": [
    "inp0.age.isnull().sum()"
   ]
  },
  {
   "cell_type": "code",
   "execution_count": 13,
   "metadata": {},
   "outputs": [
    {
     "data": {
      "text/plain": [
       "(45211, 19)"
      ]
     },
     "execution_count": 13,
     "metadata": {},
     "output_type": "execute_result"
    }
   ],
   "source": [
    "inp0.shape"
   ]
  },
  {
   "cell_type": "code",
   "execution_count": 14,
   "metadata": {},
   "outputs": [
    {
     "data": {
      "text/plain": [
       "0.04423702196368141"
      ]
     },
     "execution_count": 14,
     "metadata": {},
     "output_type": "execute_result"
    }
   ],
   "source": [
    "#percentage of missing records for age\n",
    "100*20/45211"
   ]
  },
  {
   "cell_type": "markdown",
   "metadata": {},
   "source": [
    "That's roughly .04 percent. It is very smaller number.\n",
    "We can take a call here, for our task we could do with dropping these records with age missing"
   ]
  },
  {
   "cell_type": "code",
   "execution_count": 15,
   "metadata": {},
   "outputs": [
    {
     "data": {
      "text/plain": [
       "(45191, 19)"
      ]
     },
     "execution_count": 15,
     "metadata": {},
     "output_type": "execute_result"
    }
   ],
   "source": [
    "inp1=inp0[~inp0[\"age\"].isnull()].copy()\n",
    "inp1.shape"
   ]
  },
  {
   "cell_type": "code",
   "execution_count": 16,
   "metadata": {},
   "outputs": [
    {
     "data": {
      "text/plain": [
       "0"
      ]
     },
     "execution_count": 16,
     "metadata": {},
     "output_type": "execute_result"
    }
   ],
   "source": [
    "inp1.age.isnull().sum()"
   ]
  },
  {
   "cell_type": "markdown",
   "metadata": {},
   "source": [
    "Let's look at the other columns."
   ]
  },
  {
   "cell_type": "markdown",
   "metadata": {},
   "source": [
    "#### Handling missing values for months"
   ]
  },
  {
   "cell_type": "code",
   "execution_count": 17,
   "metadata": {},
   "outputs": [
    {
     "data": {
      "text/plain": [
       "50"
      ]
     },
     "execution_count": 17,
     "metadata": {},
     "output_type": "execute_result"
    }
   ],
   "source": [
    "inp1.month.isnull().sum()"
   ]
  },
  {
   "cell_type": "markdown",
   "metadata": {},
   "source": [
    "Again the value is less, but in this case we will adapt a different strategy and we will substitute a different value in place of missing values."
   ]
  },
  {
   "cell_type": "code",
   "execution_count": 18,
   "metadata": {},
   "outputs": [
    {
     "data": {
      "text/plain": [
       "may, 2017    0.304380\n",
       "jul, 2017    0.152522\n",
       "aug, 2017    0.138123\n",
       "jun, 2017    0.118141\n",
       "nov, 2017    0.087880\n",
       "apr, 2017    0.064908\n",
       "feb, 2017    0.058616\n",
       "jan, 2017    0.031058\n",
       "oct, 2017    0.016327\n",
       "sep, 2017    0.012760\n",
       "mar, 2017    0.010545\n",
       "dec, 2017    0.004741\n",
       "Name: month, dtype: float64"
      ]
     },
     "execution_count": 18,
     "metadata": {},
     "output_type": "execute_result"
    }
   ],
   "source": [
    "#Let's look at the percentage of values\n",
    "inp1.month.value_counts(normalize=True)"
   ]
  },
  {
   "cell_type": "markdown",
   "metadata": {},
   "source": [
    "Roughly 30 percent values are in may, so we can take a call and we can assign the missing values to may."
   ]
  },
  {
   "cell_type": "markdown",
   "metadata": {},
   "source": [
    "We will estimate the missing values to May."
   ]
  },
  {
   "cell_type": "markdown",
   "metadata": {},
   "source": [
    "We could have used a predictive model for it but this is the most basic EDA."
   ]
  },
  {
   "cell_type": "code",
   "execution_count": 19,
   "metadata": {},
   "outputs": [
    {
     "data": {
      "text/plain": [
       "0    may, 2017\n",
       "dtype: object"
      ]
     },
     "execution_count": 19,
     "metadata": {},
     "output_type": "execute_result"
    }
   ],
   "source": [
    "inp1.month.mode()"
   ]
  },
  {
   "cell_type": "code",
   "execution_count": 20,
   "metadata": {},
   "outputs": [
    {
     "data": {
      "text/plain": [
       "'may, 2017'"
      ]
     },
     "execution_count": 20,
     "metadata": {},
     "output_type": "execute_result"
    }
   ],
   "source": [
    "month_mode=inp1.month.mode()[0]\n",
    "month_mode"
   ]
  },
  {
   "cell_type": "markdown",
   "metadata": {},
   "source": [
    "Let's replace the missing values with the may 2017."
   ]
  },
  {
   "cell_type": "markdown",
   "metadata": {},
   "source": [
    "We will use the fillna() method."
   ]
  },
  {
   "cell_type": "code",
   "execution_count": 21,
   "metadata": {},
   "outputs": [
    {
     "data": {
      "text/plain": [
       "may, 2017    0.305149\n",
       "jul, 2017    0.152353\n",
       "aug, 2017    0.137970\n",
       "jun, 2017    0.118010\n",
       "nov, 2017    0.087783\n",
       "apr, 2017    0.064836\n",
       "feb, 2017    0.058551\n",
       "jan, 2017    0.031024\n",
       "oct, 2017    0.016309\n",
       "sep, 2017    0.012746\n",
       "mar, 2017    0.010533\n",
       "dec, 2017    0.004735\n",
       "Name: month, dtype: float64"
      ]
     },
     "execution_count": 21,
     "metadata": {},
     "output_type": "execute_result"
    }
   ],
   "source": [
    "inp1.month.fillna(month_mode,inplace=True)\n",
    "inp1.month.value_counts(normalize=True)"
   ]
  },
  {
   "cell_type": "code",
   "execution_count": 22,
   "metadata": {},
   "outputs": [
    {
     "data": {
      "text/plain": [
       "0"
      ]
     },
     "execution_count": 22,
     "metadata": {},
     "output_type": "execute_result"
    }
   ],
   "source": [
    "inp1.month.isnull().sum()"
   ]
  },
  {
   "cell_type": "markdown",
   "metadata": {},
   "source": [
    "So we followed two strategies here:\n",
    "1. We dropped the rows\n",
    "2. We replaced the missing values with the most frequent ones"
   ]
  },
  {
   "cell_type": "markdown",
   "metadata": {},
   "source": [
    "Let's look at the pdays variable:"
   ]
  },
  {
   "cell_type": "code",
   "execution_count": 23,
   "metadata": {},
   "outputs": [
    {
     "data": {
      "text/plain": [
       "count    45191.000000\n",
       "mean        40.181253\n",
       "std        100.074099\n",
       "min         -1.000000\n",
       "25%         -1.000000\n",
       "50%         -1.000000\n",
       "75%         -1.000000\n",
       "max        871.000000\n",
       "Name: pdays, dtype: float64"
      ]
     },
     "execution_count": 23,
     "metadata": {},
     "output_type": "execute_result"
    }
   ],
   "source": [
    "inp1.pdays.describe()"
   ]
  },
  {
   "cell_type": "markdown",
   "metadata": {},
   "source": [
    "pdays= days since previous campaign"
   ]
  },
  {
   "cell_type": "markdown",
   "metadata": {},
   "source": [
    "We notice that atleast 75% values are -1."
   ]
  },
  {
   "cell_type": "markdown",
   "metadata": {},
   "source": [
    "Why do we have so many -1 ?"
   ]
  },
  {
   "cell_type": "markdown",
   "metadata": {},
   "source": [
    "So -1 is just an encoding that these people were not contacted earlier, they were not a part of earlier campaign.\n",
    "Therefore -1 indicates missing values!!. -1 is an indicator of missing values."
   ]
  },
  {
   "cell_type": "markdown",
   "metadata": {},
   "source": [
    "#### pdays also has missing values and how do we handle this?\n",
    "\n",
    "- What was our objective?\n",
    "-- Our objective was to determine the factors to promote the campaign."
   ]
  },
  {
   "cell_type": "markdown",
   "metadata": {},
   "source": [
    "- We want the missing values to be ignored in the calculation.\n",
    "- How do we do that ?\n",
    "- simply make it missing or replace -1 with NaN\n",
    "- So all the summary statistics will ignore the missing values."
   ]
  },
  {
   "cell_type": "code",
   "execution_count": 24,
   "metadata": {},
   "outputs": [
    {
     "data": {
      "text/plain": [
       "count    8252.000000\n",
       "mean      224.523752\n",
       "std       115.202715\n",
       "min         1.000000\n",
       "25%       133.000000\n",
       "50%       194.500000\n",
       "75%       327.000000\n",
       "max       871.000000\n",
       "Name: pdays, dtype: float64"
      ]
     },
     "execution_count": 24,
     "metadata": {},
     "output_type": "execute_result"
    }
   ],
   "source": [
    "inp1.loc[inp1.pdays<0,\"pdays\"]=np.NaN\n",
    "inp1.pdays.describe()"
   ]
  },
  {
   "cell_type": "markdown",
   "metadata": {},
   "source": [
    "Now you see the things have changed completely!"
   ]
  },
  {
   "cell_type": "markdown",
   "metadata": {},
   "source": [
    "We have few take aways here and they are important ones.\n",
    "- Missing values doesnt always have to be null."
   ]
  },
  {
   "cell_type": "markdown",
   "metadata": {},
   "source": [
    "##### Now we have handled all the missing values."
   ]
  },
  {
   "cell_type": "markdown",
   "metadata": {},
   "source": [
    "### Handling Outliers"
   ]
  },
  {
   "cell_type": "markdown",
   "metadata": {},
   "source": [
    "First we will identify the outliers and then handle them."
   ]
  },
  {
   "cell_type": "markdown",
   "metadata": {},
   "source": [
    "Age Variable"
   ]
  },
  {
   "cell_type": "code",
   "execution_count": 25,
   "metadata": {},
   "outputs": [
    {
     "data": {
      "text/plain": [
       "count    45191.000000\n",
       "mean        40.935651\n",
       "std         10.619198\n",
       "min         18.000000\n",
       "25%         33.000000\n",
       "50%         39.000000\n",
       "75%         48.000000\n",
       "max         95.000000\n",
       "Name: age, dtype: float64"
      ]
     },
     "execution_count": 25,
     "metadata": {},
     "output_type": "execute_result"
    }
   ],
   "source": [
    "inp1.age.describe()"
   ]
  },
  {
   "cell_type": "code",
   "execution_count": 26,
   "metadata": {},
   "outputs": [
    {
     "data": {
      "image/png": "[encoded data removed]",
      "text/plain": [
       "<Figure size 432x288 with 1 Axes>"
      ]
     },
     "metadata": {
      "needs_background": "light"
     },
     "output_type": "display_data"
    }
   ],
   "source": [
    "#Lets make a plot\n",
    "inp1.age.plot.hist()\n",
    "plt.show()"
   ]
  },
  {
   "cell_type": "code",
   "execution_count": 27,
   "metadata": {},
   "outputs": [
    {
     "data": {
      "image/png": "[encoded data removed]",
      "text/plain": [
       "<Figure size 432x288 with 1 Axes>"
      ]
     },
     "metadata": {
      "needs_background": "light"
     },
     "output_type": "display_data"
    }
   ],
   "source": [
    "#Better graphics would be boxplot\n",
    "sns.boxplot(inp1.age)\n",
    "plt.show()"
   ]
  },
  {
   "cell_type": "markdown",
   "metadata": {},
   "source": [
    "Let's look at another variable Balance"
   ]
  },
  {
   "cell_type": "code",
   "execution_count": 28,
   "metadata": {},
   "outputs": [
    {
     "data": {
      "text/plain": [
       "count     45191.000000\n",
       "mean       1362.432520\n",
       "std        3045.120417\n",
       "min       -8019.000000\n",
       "25%          72.000000\n",
       "50%         448.000000\n",
       "75%        1428.000000\n",
       "max      102127.000000\n",
       "Name: balance, dtype: float64"
      ]
     },
     "execution_count": 28,
     "metadata": {},
     "output_type": "execute_result"
    }
   ],
   "source": [
    "inp1.balance.describe()"
   ]
  },
  {
   "cell_type": "markdown",
   "metadata": {},
   "source": [
    "So now here theres a big difference between median and mean and also 75% and max has a huge difference."
   ]
  },
  {
   "cell_type": "code",
   "execution_count": 29,
   "metadata": {},
   "outputs": [
    {
     "data": {
      "image/png": "[encoded data removed]",
      "text/plain": [
       "<Figure size 576x144 with 1 Axes>"
      ]
     },
     "metadata": {
      "needs_background": "light"
     },
     "output_type": "display_data"
    }
   ],
   "source": [
    "#lets plot the boxplot\n",
    "plt.figure(figsize=(8,2))\n",
    "sns.boxplot(inp1.balance)\n",
    "plt.show()"
   ]
  },
  {
   "cell_type": "markdown",
   "metadata": {},
   "source": [
    "Most of them are in very small range and we do see huge extremes which is expected in this column \"balance\"."
   ]
  },
  {
   "cell_type": "markdown",
   "metadata": {},
   "source": [
    "Let's look at the percentiles."
   ]
  },
  {
   "cell_type": "code",
   "execution_count": 30,
   "metadata": {},
   "outputs": [
    {
     "data": {
      "text/plain": [
       "0.50      448.0\n",
       "0.70     1126.0\n",
       "0.90     3575.0\n",
       "0.95     5768.0\n",
       "0.99    13167.1\n",
       "Name: balance, dtype: float64"
      ]
     },
     "execution_count": 30,
     "metadata": {},
     "output_type": "execute_result"
    }
   ],
   "source": [
    "inp1.balance.quantile([0.5,0.7,0.9,0.95,0.99])"
   ]
  },
  {
   "cell_type": "markdown",
   "metadata": {},
   "source": [
    "We see that upto 95% have a balance of 5768 and 99% have 13k."
   ]
  },
  {
   "cell_type": "markdown",
   "metadata": {},
   "source": [
    "Now we can decide the outliers and decide what to do with them -> drop them or cap them."
   ]
  },
  {
   "cell_type": "code",
   "execution_count": 31,
   "metadata": {},
   "outputs": [
    {
     "data": {
      "text/html": [
       "<div>\n",
       "<style scoped>\n",
       "    .dataframe tbody tr th:only-of-type {\n",
       "        vertical-align: middle;\n",
       "    }\n",
       "\n",
       "    .dataframe tbody tr th {\n",
       "        vertical-align: top;\n",
       "    }\n",
       "\n",
       "    .dataframe thead th {\n",
       "        text-align: right;\n",
       "    }\n",
       "</style>\n",
       "<table border=\"1\" class=\"dataframe\">\n",
       "  <thead>\n",
       "    <tr style=\"text-align: right;\">\n",
       "      <th></th>\n",
       "      <th>age</th>\n",
       "      <th>salary</th>\n",
       "      <th>balance</th>\n",
       "      <th>day</th>\n",
       "      <th>campaign</th>\n",
       "      <th>pdays</th>\n",
       "      <th>previous</th>\n",
       "    </tr>\n",
       "  </thead>\n",
       "  <tbody>\n",
       "    <tr>\n",
       "      <th>count</th>\n",
       "      <td>351.000000</td>\n",
       "      <td>351.000000</td>\n",
       "      <td>351.000000</td>\n",
       "      <td>351.000000</td>\n",
       "      <td>351.000000</td>\n",
       "      <td>62.000000</td>\n",
       "      <td>351.000000</td>\n",
       "    </tr>\n",
       "    <tr>\n",
       "      <th>mean</th>\n",
       "      <td>45.341880</td>\n",
       "      <td>70008.547009</td>\n",
       "      <td>24295.780627</td>\n",
       "      <td>16.022792</td>\n",
       "      <td>2.749288</td>\n",
       "      <td>188.516129</td>\n",
       "      <td>0.555556</td>\n",
       "    </tr>\n",
       "    <tr>\n",
       "      <th>std</th>\n",
       "      <td>12.114333</td>\n",
       "      <td>34378.272805</td>\n",
       "      <td>12128.560693</td>\n",
       "      <td>8.101819</td>\n",
       "      <td>3.036886</td>\n",
       "      <td>118.796388</td>\n",
       "      <td>1.784590</td>\n",
       "    </tr>\n",
       "    <tr>\n",
       "      <th>min</th>\n",
       "      <td>23.000000</td>\n",
       "      <td>0.000000</td>\n",
       "      <td>15030.000000</td>\n",
       "      <td>1.000000</td>\n",
       "      <td>1.000000</td>\n",
       "      <td>31.000000</td>\n",
       "      <td>0.000000</td>\n",
       "    </tr>\n",
       "    <tr>\n",
       "      <th>25%</th>\n",
       "      <td>35.000000</td>\n",
       "      <td>50000.000000</td>\n",
       "      <td>17074.000000</td>\n",
       "      <td>9.000000</td>\n",
       "      <td>1.000000</td>\n",
       "      <td>96.250000</td>\n",
       "      <td>0.000000</td>\n",
       "    </tr>\n",
       "    <tr>\n",
       "      <th>50%</th>\n",
       "      <td>44.000000</td>\n",
       "      <td>60000.000000</td>\n",
       "      <td>20723.000000</td>\n",
       "      <td>18.000000</td>\n",
       "      <td>2.000000</td>\n",
       "      <td>167.500000</td>\n",
       "      <td>0.000000</td>\n",
       "    </tr>\n",
       "    <tr>\n",
       "      <th>75%</th>\n",
       "      <td>55.000000</td>\n",
       "      <td>100000.000000</td>\n",
       "      <td>26254.000000</td>\n",
       "      <td>21.000000</td>\n",
       "      <td>3.000000</td>\n",
       "      <td>246.500000</td>\n",
       "      <td>0.000000</td>\n",
       "    </tr>\n",
       "    <tr>\n",
       "      <th>max</th>\n",
       "      <td>84.000000</td>\n",
       "      <td>120000.000000</td>\n",
       "      <td>102127.000000</td>\n",
       "      <td>31.000000</td>\n",
       "      <td>31.000000</td>\n",
       "      <td>589.000000</td>\n",
       "      <td>23.000000</td>\n",
       "    </tr>\n",
       "  </tbody>\n",
       "</table>\n",
       "</div>"
      ],
      "text/plain": [
       "              age         salary        balance         day    campaign  \\\n",
       "count  351.000000     351.000000     351.000000  351.000000  351.000000   \n",
       "mean    45.341880   70008.547009   24295.780627   16.022792    2.749288   \n",
       "std     12.114333   34378.272805   12128.560693    8.101819    3.036886   \n",
       "min     23.000000       0.000000   15030.000000    1.000000    1.000000   \n",
       "25%     35.000000   50000.000000   17074.000000    9.000000    1.000000   \n",
       "50%     44.000000   60000.000000   20723.000000   18.000000    2.000000   \n",
       "75%     55.000000  100000.000000   26254.000000   21.000000    3.000000   \n",
       "max     84.000000  120000.000000  102127.000000   31.000000   31.000000   \n",
       "\n",
       "            pdays    previous  \n",
       "count   62.000000  351.000000  \n",
       "mean   188.516129    0.555556  \n",
       "std    118.796388    1.784590  \n",
       "min     31.000000    0.000000  \n",
       "25%     96.250000    0.000000  \n",
       "50%    167.500000    0.000000  \n",
       "75%    246.500000    0.000000  \n",
       "max    589.000000   23.000000  "
      ]
     },
     "execution_count": 31,
     "metadata": {},
     "output_type": "execute_result"
    }
   ],
   "source": [
    "inp1[inp1.balance>15000].describe()"
   ]
  },
  {
   "cell_type": "markdown",
   "metadata": {},
   "source": [
    "So this particular group seems to be financially well off! These arent invalid records and at the moment these people are very important."
   ]
  },
  {
   "cell_type": "markdown",
   "metadata": {},
   "source": [
    "#### Either we can cap the values or keep in mind that these records are there during the analysis.\n",
    "#### Instead of looking at mean, we could look at quantiles/medians/percentiles instead."
   ]
  },
  {
   "cell_type": "markdown",
   "metadata": {},
   "source": [
    "### Standardize Variable"
   ]
  },
  {
   "cell_type": "markdown",
   "metadata": {},
   "source": [
    "Let's look at the duration variable for this purpose."
   ]
  },
  {
   "cell_type": "code",
   "execution_count": 32,
   "metadata": {},
   "outputs": [
    {
     "data": {
      "text/plain": [
       "0    261 sec\n",
       "1    151 sec\n",
       "2     76 sec\n",
       "3     92 sec\n",
       "4    198 sec\n",
       "Name: duration, dtype: object"
      ]
     },
     "execution_count": 32,
     "metadata": {},
     "output_type": "execute_result"
    }
   ],
   "source": [
    "inp1.duration.head()"
   ]
  },
  {
   "cell_type": "code",
   "execution_count": 33,
   "metadata": {},
   "outputs": [
    {
     "data": {
      "text/plain": [
       "count       45191\n",
       "unique       2646\n",
       "top       1.5 min\n",
       "freq          138\n",
       "Name: duration, dtype: object"
      ]
     },
     "execution_count": 33,
     "metadata": {},
     "output_type": "execute_result"
    }
   ],
   "source": [
    "inp1.duration.describe()"
   ]
  },
  {
   "cell_type": "markdown",
   "metadata": {},
   "source": [
    "We have values in different units.\n",
    "- we need to standardise the values and extract only the numbers."
   ]
  },
  {
   "cell_type": "code",
   "execution_count": 34,
   "metadata": {},
   "outputs": [
    {
     "data": {
      "text/plain": [
       "0         4.350000\n",
       "1         2.516667\n",
       "2         1.266667\n",
       "3         1.533333\n",
       "4         3.300000\n",
       "           ...    \n",
       "45206    16.283333\n",
       "45207     7.600000\n",
       "45208    18.783333\n",
       "45209     8.466667\n",
       "45210     6.016667\n",
       "Name: duration, Length: 45191, dtype: float64"
      ]
     },
     "execution_count": 34,
     "metadata": {},
     "output_type": "execute_result"
    }
   ],
   "source": [
    "inp1.duration.apply(lambda x:float(x.split()[0])/60 if x.find(\"sec\")>0 else float(x.split()[0]) )"
   ]
  },
  {
   "cell_type": "code",
   "execution_count": 35,
   "metadata": {},
   "outputs": [],
   "source": [
    "inp1.duration=inp1.duration.apply(lambda x:float(x.split()[0])/60 if x.find(\"sec\")>0 else float(x.split()[0]) )"
   ]
  },
  {
   "cell_type": "code",
   "execution_count": 36,
   "metadata": {},
   "outputs": [
    {
     "data": {
      "text/plain": [
       "count    45191.000000\n",
       "mean         4.303030\n",
       "std          4.292739\n",
       "min          0.000000\n",
       "25%          1.716667\n",
       "50%          3.000000\n",
       "75%          5.316667\n",
       "max         81.966667\n",
       "Name: duration, dtype: float64"
      ]
     },
     "execution_count": 36,
     "metadata": {},
     "output_type": "execute_result"
    }
   ],
   "source": [
    "inp1.duration.describe()"
   ]
  },
  {
   "cell_type": "markdown",
   "metadata": {},
   "source": [
    "So now we have standardised the variable."
   ]
  },
  {
   "cell_type": "markdown",
   "metadata": {},
   "source": [
    "### Univariate Analysis"
   ]
  },
  {
   "cell_type": "markdown",
   "metadata": {},
   "source": [
    "Let's find out the types of the variables."
   ]
  },
  {
   "cell_type": "code",
   "execution_count": 37,
   "metadata": {},
   "outputs": [
    {
     "data": {
      "text/plain": [
       "age         float64\n",
       "salary        int64\n",
       "balance       int64\n",
       "marital      object\n",
       "targeted     object\n",
       "default      object\n",
       "housing      object\n",
       "loan         object\n",
       "contact      object\n",
       "day           int64\n",
       "month        object\n",
       "duration    float64\n",
       "campaign      int64\n",
       "pdays       float64\n",
       "previous      int64\n",
       "poutcome     object\n",
       "response     object\n",
       "job          object\n",
       "edu          object\n",
       "dtype: object"
      ]
     },
     "execution_count": 37,
     "metadata": {},
     "output_type": "execute_result"
    }
   ],
   "source": [
    "inp1.dtypes"
   ]
  },
  {
   "cell_type": "markdown",
   "metadata": {},
   "source": [
    "Numerical we have a fair understanding, let's look at the categorical ones."
   ]
  },
  {
   "cell_type": "markdown",
   "metadata": {},
   "source": [
    "Let's look at marital"
   ]
  },
  {
   "cell_type": "markdown",
   "metadata": {},
   "source": [
    "#### Univariate analysis -  Categorical Variables"
   ]
  },
  {
   "cell_type": "markdown",
   "metadata": {},
   "source": [
    "Let's look at marital"
   ]
  },
  {
   "cell_type": "code",
   "execution_count": 38,
   "metadata": {},
   "outputs": [
    {
     "data": {
      "text/plain": [
       "married     0.601978\n",
       "single      0.282932\n",
       "divorced    0.115089\n",
       "Name: marital, dtype: float64"
      ]
     },
     "execution_count": 38,
     "metadata": {},
     "output_type": "execute_result"
    }
   ],
   "source": [
    "inp1.marital.value_counts(normalize=True)"
   ]
  },
  {
   "cell_type": "code",
   "execution_count": 39,
   "metadata": {},
   "outputs": [
    {
     "data": {
      "image/png": "[encoded data removed]",
      "text/plain": [
       "<Figure size 432x288 with 1 Axes>"
      ]
     },
     "metadata": {
      "needs_background": "light"
     },
     "output_type": "display_data"
    }
   ],
   "source": [
    "#Let's plot it as well!\n",
    "inp1.marital.value_counts(normalize=True).plot.barh()\n",
    "plt.show()"
   ]
  },
  {
   "cell_type": "markdown",
   "metadata": {},
   "source": [
    "Married is by far the biggest bucket."
   ]
  },
  {
   "cell_type": "code",
   "execution_count": 40,
   "metadata": {},
   "outputs": [
    {
     "data": {
      "text/plain": [
       "blue-collar      0.215242\n",
       "management       0.209223\n",
       "technician       0.168042\n",
       "admin.           0.114403\n",
       "services         0.091877\n",
       "retired          0.050076\n",
       "self-employed    0.034918\n",
       "entrepreneur     0.032861\n",
       "unemployed       0.028811\n",
       "housemaid        0.027417\n",
       "student          0.020756\n",
       "unknown          0.006373\n",
       "Name: job, dtype: float64"
      ]
     },
     "execution_count": 40,
     "metadata": {},
     "output_type": "execute_result"
    }
   ],
   "source": [
    "inp1.job.value_counts(normalize=True)"
   ]
  },
  {
   "cell_type": "code",
   "execution_count": 41,
   "metadata": {},
   "outputs": [
    {
     "data": {
      "image/png": "[encoded data removed]",
      "text/plain": [
       "<Figure size 432x288 with 1 Axes>"
      ]
     },
     "metadata": {
      "needs_background": "light"
     },
     "output_type": "display_data"
    }
   ],
   "source": [
    "inp1.job.value_counts(normalize=True).plot.barh()\n",
    "plt.show()"
   ]
  },
  {
   "cell_type": "markdown",
   "metadata": {},
   "source": [
    "Let's look at education variable"
   ]
  },
  {
   "cell_type": "code",
   "execution_count": 42,
   "metadata": {},
   "outputs": [
    {
     "data": {
      "text/plain": [
       "secondary    23193\n",
       "tertiary     13295\n",
       "primary       6846\n",
       "unknown       1857\n",
       "Name: edu, dtype: int64"
      ]
     },
     "execution_count": 42,
     "metadata": {},
     "output_type": "execute_result"
    }
   ],
   "source": [
    "inp1.edu.value_counts()"
   ]
  },
  {
   "cell_type": "code",
   "execution_count": 43,
   "metadata": {},
   "outputs": [
    {
     "data": {
      "image/png": "[encoded data removed]",
      "text/plain": [
       "<Figure size 432x288 with 1 Axes>"
      ]
     },
     "metadata": {},
     "output_type": "display_data"
    }
   ],
   "source": [
    "inp1.edu.value_counts(normalize=True).plot.pie()\n",
    "plt.show()"
   ]
  },
  {
   "cell_type": "markdown",
   "metadata": {},
   "source": [
    "Lets look at poutcome variable"
   ]
  },
  {
   "cell_type": "code",
   "execution_count": 44,
   "metadata": {},
   "outputs": [
    {
     "data": {
      "image/png": "[encoded data removed]",
      "text/plain": [
       "<Figure size 432x288 with 1 Axes>"
      ]
     },
     "metadata": {
      "needs_background": "light"
     },
     "output_type": "display_data"
    }
   ],
   "source": [
    "inp1.poutcome.value_counts(normalize=True).plot.bar()\n",
    "plt.show()"
   ]
  },
  {
   "cell_type": "markdown",
   "metadata": {},
   "source": [
    "For most of them it is 'unknown', which means for most of them there was no previous campaign."
   ]
  },
  {
   "cell_type": "markdown",
   "metadata": {},
   "source": [
    "We can also limit our graph without the unknowns:"
   ]
  },
  {
   "cell_type": "code",
   "execution_count": 45,
   "metadata": {},
   "outputs": [
    {
     "data": {
      "image/png": "[encoded data removed]",
      "text/plain": [
       "<Figure size 432x288 with 1 Axes>"
      ]
     },
     "metadata": {
      "needs_background": "light"
     },
     "output_type": "display_data"
    }
   ],
   "source": [
    "inp1[~(inp1[\"poutcome\"]==\"unknown\")].poutcome.value_counts(normalize=True).plot.bar()\n",
    "plt.show()"
   ]
  },
  {
   "cell_type": "markdown",
   "metadata": {},
   "source": [
    "Finally let's look at the target variable-\"response\""
   ]
  },
  {
   "cell_type": "code",
   "execution_count": 46,
   "metadata": {},
   "outputs": [
    {
     "data": {
      "text/plain": [
       "no     0.882974\n",
       "yes    0.117026\n",
       "Name: response, dtype: float64"
      ]
     },
     "execution_count": 46,
     "metadata": {},
     "output_type": "execute_result"
    }
   ],
   "source": [
    "inp1.response.value_counts(normalize=True)"
   ]
  },
  {
   "cell_type": "markdown",
   "metadata": {},
   "source": [
    "For most people its a no which is what happens in these market campaigns really."
   ]
  },
  {
   "cell_type": "code",
   "execution_count": 47,
   "metadata": {},
   "outputs": [
    {
     "data": {
      "image/png": "[encoded data removed]",
      "text/plain": [
       "<Figure size 432x288 with 1 Axes>"
      ]
     },
     "metadata": {},
     "output_type": "display_data"
    }
   ],
   "source": [
    "inp1.response.value_counts(normalize=True).plot.pie()\n",
    "plt.show()"
   ]
  },
  {
   "cell_type": "markdown",
   "metadata": {},
   "source": [
    "### Bi Variate Analysis and Multivariate Analysis\n",
    "\n",
    "- We can look at associations between variables and derive patterns from them."
   ]
  },
  {
   "cell_type": "markdown",
   "metadata": {},
   "source": [
    "#### Numeric-Numeric Analysis"
   ]
  },
  {
   "cell_type": "markdown",
   "metadata": {},
   "source": [
    "1. Plot types:\n",
    "a) Correlation Matrix: But still it is a summary number, it is better to plot it.\n",
    "b) Scatter Plot: We can plot it to display relation.\n",
    "c) Pair Plot: Is like a grid with scatter plots for mutliple variables and histogram for the same variables on the diagnols usually. More benefecial for smaller number of variables."
   ]
  },
  {
   "cell_type": "code",
   "execution_count": 48,
   "metadata": {},
   "outputs": [
    {
     "data": {
      "image/png": "[encoded data removed]",
      "text/plain": [
       "<Figure size 432x288 with 1 Axes>"
      ]
     },
     "metadata": {
      "needs_background": "light"
     },
     "output_type": "display_data"
    }
   ],
   "source": [
    "plt.scatter(inp1.salary,inp1.balance)\n",
    "plt.show()"
   ]
  },
  {
   "cell_type": "code",
   "execution_count": 49,
   "metadata": {},
   "outputs": [
    {
     "data": {
      "image/png": "[encoded data removed]",
      "text/plain": [
       "<Figure size 432x288 with 1 Axes>"
      ]
     },
     "metadata": {
      "needs_background": "light"
     },
     "output_type": "display_data"
    }
   ],
   "source": [
    "inp1.plot.scatter(x=\"age\",y=\"balance\")\n",
    "plt.show()"
   ]
  },
  {
   "cell_type": "markdown",
   "metadata": {},
   "source": [
    "Instead of watching them seperately we can make a pairplot!"
   ]
  },
  {
   "cell_type": "code",
   "execution_count": 50,
   "metadata": {},
   "outputs": [
    {
     "data": {
      "image/png": "[encoded data removed]",
      "text/plain": [
       "<Figure size 540x540 with 12 Axes>"
      ]
     },
     "metadata": {
      "needs_background": "light"
     },
     "output_type": "display_data"
    }
   ],
   "source": [
    "sns.pairplot(data=inp1,vars=[\"salary\",\"balance\",\"age\"])\n",
    "plt.show()"
   ]
  },
  {
   "cell_type": "markdown",
   "metadata": {},
   "source": [
    "So there is basically no strong association if we see visually."
   ]
  },
  {
   "cell_type": "markdown",
   "metadata": {},
   "source": [
    "#### Quantify using corelation values"
   ]
  },
  {
   "cell_type": "code",
   "execution_count": 51,
   "metadata": {},
   "outputs": [
    {
     "data": {
      "text/html": [
       "<div>\n",
       "<style scoped>\n",
       "    .dataframe tbody tr th:only-of-type {\n",
       "        vertical-align: middle;\n",
       "    }\n",
       "\n",
       "    .dataframe tbody tr th {\n",
       "        vertical-align: top;\n",
       "    }\n",
       "\n",
       "    .dataframe thead th {\n",
       "        text-align: right;\n",
       "    }\n",
       "</style>\n",
       "<table border=\"1\" class=\"dataframe\">\n",
       "  <thead>\n",
       "    <tr style=\"text-align: right;\">\n",
       "      <th></th>\n",
       "      <th>age</th>\n",
       "      <th>salary</th>\n",
       "      <th>balance</th>\n",
       "    </tr>\n",
       "  </thead>\n",
       "  <tbody>\n",
       "    <tr>\n",
       "      <th>age</th>\n",
       "      <td>1.000000</td>\n",
       "      <td>0.024374</td>\n",
       "      <td>0.097755</td>\n",
       "    </tr>\n",
       "    <tr>\n",
       "      <th>salary</th>\n",
       "      <td>0.024374</td>\n",
       "      <td>1.000000</td>\n",
       "      <td>0.055505</td>\n",
       "    </tr>\n",
       "    <tr>\n",
       "      <th>balance</th>\n",
       "      <td>0.097755</td>\n",
       "      <td>0.055505</td>\n",
       "      <td>1.000000</td>\n",
       "    </tr>\n",
       "  </tbody>\n",
       "</table>\n",
       "</div>"
      ],
      "text/plain": [
       "              age    salary   balance\n",
       "age      1.000000  0.024374  0.097755\n",
       "salary   0.024374  1.000000  0.055505\n",
       "balance  0.097755  0.055505  1.000000"
      ]
     },
     "execution_count": 51,
     "metadata": {},
     "output_type": "execute_result"
    }
   ],
   "source": [
    "inp1[[\"age\",\"salary\",\"balance\"]].corr()"
   ]
  },
  {
   "cell_type": "markdown",
   "metadata": {},
   "source": [
    "#### Correlation Heatmap"
   ]
  },
  {
   "cell_type": "code",
   "execution_count": 52,
   "metadata": {},
   "outputs": [
    {
     "data": {
      "image/png": "[encoded data removed]",
      "text/plain": [
       "<Figure size 432x288 with 2 Axes>"
      ]
     },
     "metadata": {
      "needs_background": "light"
     },
     "output_type": "display_data"
    }
   ],
   "source": [
    "sns.heatmap(inp1[[\"age\",\"salary\",\"balance\"]].corr(),annot=True,cmap=\"Reds\")\n",
    "plt.show()"
   ]
  },
  {
   "cell_type": "markdown",
   "metadata": {},
   "source": [
    "Even from the visuals there is no such corelations as well."
   ]
  },
  {
   "cell_type": "markdown",
   "metadata": {},
   "source": [
    "### Categorical vs Numerical"
   ]
  },
  {
   "cell_type": "markdown",
   "metadata": {},
   "source": [
    "#### Let's associate our response variable with other numerical variables."
   ]
  },
  {
   "cell_type": "code",
   "execution_count": 53,
   "metadata": {},
   "outputs": [
    {
     "data": {
      "text/plain": [
       "response\n",
       "no     56769.510482\n",
       "yes    58780.510880\n",
       "Name: salary, dtype: float64"
      ]
     },
     "execution_count": 53,
     "metadata": {},
     "output_type": "execute_result"
    }
   ],
   "source": [
    "inp1.groupby(by=\"response\")[\"salary\"].mean()"
   ]
  },
  {
   "cell_type": "code",
   "execution_count": 54,
   "metadata": {},
   "outputs": [
    {
     "data": {
      "text/plain": [
       "response\n",
       "no     60000\n",
       "yes    60000\n",
       "Name: salary, dtype: int64"
      ]
     },
     "execution_count": 54,
     "metadata": {},
     "output_type": "execute_result"
    }
   ],
   "source": [
    "inp1.groupby(by=\"response\")[\"salary\"].median()"
   ]
  },
  {
   "cell_type": "code",
   "execution_count": 55,
   "metadata": {},
   "outputs": [
    {
     "data": {
      "image/png": "[encoded data removed]",
      "text/plain": [
       "<Figure size 432x288 with 1 Axes>"
      ]
     },
     "metadata": {
      "needs_background": "light"
     },
     "output_type": "display_data"
    }
   ],
   "source": [
    "sns.boxplot(data=inp1,x=\"response\",y=\"salary\")\n",
    "plt.show()"
   ]
  },
  {
   "cell_type": "markdown",
   "metadata": {},
   "source": [
    "When we visualise it we can see a different picture that people who responded yes are in a higher salary cut."
   ]
  },
  {
   "cell_type": "markdown",
   "metadata": {},
   "source": [
    "#### Let's look at response vs balance"
   ]
  },
  {
   "cell_type": "code",
   "execution_count": 56,
   "metadata": {},
   "outputs": [
    {
     "data": {
      "image/png": "[encoded data removed]",
      "text/plain": [
       "<Figure size 432x288 with 1 Axes>"
      ]
     },
     "metadata": {
      "needs_background": "light"
     },
     "output_type": "display_data"
    }
   ],
   "source": [
    "sns.boxplot(data=inp1,x=\"response\",y=\"balance\")\n",
    "plt.show()"
   ]
  },
  {
   "cell_type": "markdown",
   "metadata": {},
   "source": [
    "The view of the boxplot is affected due to presence of the outliers."
   ]
  },
  {
   "cell_type": "code",
   "execution_count": 57,
   "metadata": {},
   "outputs": [
    {
     "data": {
      "text/plain": [
       "response\n",
       "no     1304.292281\n",
       "yes    1804.681362\n",
       "Name: balance, dtype: float64"
      ]
     },
     "execution_count": 57,
     "metadata": {},
     "output_type": "execute_result"
    }
   ],
   "source": [
    "inp1.groupby(by=\"response\")[\"balance\"].mean()"
   ]
  },
  {
   "cell_type": "code",
   "execution_count": 58,
   "metadata": {},
   "outputs": [
    {
     "data": {
      "text/plain": [
       "response\n",
       "no     417\n",
       "yes    733\n",
       "Name: balance, dtype: int64"
      ]
     },
     "execution_count": 58,
     "metadata": {},
     "output_type": "execute_result"
    }
   ],
   "source": [
    "inp1.groupby(by=\"response\")[\"balance\"].median()"
   ]
  },
  {
   "cell_type": "markdown",
   "metadata": {},
   "source": [
    "Median is a more accurate metric, but lets look at the custom quantiles."
   ]
  },
  {
   "cell_type": "markdown",
   "metadata": {},
   "source": [
    "#### 75th percentile "
   ]
  },
  {
   "cell_type": "code",
   "execution_count": 59,
   "metadata": {},
   "outputs": [],
   "source": [
    "def p75(x):\n",
    "    return np.quantile(x,0.75)"
   ]
  },
  {
   "cell_type": "code",
   "execution_count": 60,
   "metadata": {},
   "outputs": [
    {
     "data": {
      "text/html": [
       "<div>\n",
       "<style scoped>\n",
       "    .dataframe tbody tr th:only-of-type {\n",
       "        vertical-align: middle;\n",
       "    }\n",
       "\n",
       "    .dataframe tbody tr th {\n",
       "        vertical-align: top;\n",
       "    }\n",
       "\n",
       "    .dataframe thead th {\n",
       "        text-align: right;\n",
       "    }\n",
       "</style>\n",
       "<table border=\"1\" class=\"dataframe\">\n",
       "  <thead>\n",
       "    <tr style=\"text-align: right;\">\n",
       "      <th></th>\n",
       "      <th>mean</th>\n",
       "      <th>median</th>\n",
       "      <th>p75</th>\n",
       "    </tr>\n",
       "    <tr>\n",
       "      <th>response</th>\n",
       "      <th></th>\n",
       "      <th></th>\n",
       "      <th></th>\n",
       "    </tr>\n",
       "  </thead>\n",
       "  <tbody>\n",
       "    <tr>\n",
       "      <th>no</th>\n",
       "      <td>1304.292281</td>\n",
       "      <td>417</td>\n",
       "      <td>1345</td>\n",
       "    </tr>\n",
       "    <tr>\n",
       "      <th>yes</th>\n",
       "      <td>1804.681362</td>\n",
       "      <td>733</td>\n",
       "      <td>2159</td>\n",
       "    </tr>\n",
       "  </tbody>\n",
       "</table>\n",
       "</div>"
      ],
      "text/plain": [
       "                 mean  median   p75\n",
       "response                           \n",
       "no        1304.292281     417  1345\n",
       "yes       1804.681362     733  2159"
      ]
     },
     "execution_count": 60,
     "metadata": {},
     "output_type": "execute_result"
    }
   ],
   "source": [
    "inp1.groupby([\"response\"])[\"balance\"].aggregate([\"mean\",\"median\",p75])"
   ]
  },
  {
   "cell_type": "code",
   "execution_count": 61,
   "metadata": {},
   "outputs": [
    {
     "data": {
      "image/png": "[encoded data removed]",
      "text/plain": [
       "<Figure size 432x288 with 1 Axes>"
      ]
     },
     "metadata": {
      "needs_background": "light"
     },
     "output_type": "display_data"
    }
   ],
   "source": [
    "#going one step further\n",
    "inp1.groupby([\"response\"])[\"balance\"].aggregate([\"mean\",\"median\",p75]).plot.bar()\n",
    "plt.show()"
   ]
  },
  {
   "cell_type": "markdown",
   "metadata": {},
   "source": [
    "### Categorical - Categorical "
   ]
  },
  {
   "cell_type": "markdown",
   "metadata": {},
   "source": [
    "- We know that our response variable is a binary variable.\n",
    "- We want to look at response rates for different categorical variables.\n",
    "- Therefore it is better to convert response as a numeric column, since it is a binary column as well."
   ]
  },
  {
   "cell_type": "code",
   "execution_count": 62,
   "metadata": {},
   "outputs": [],
   "source": [
    "inp1[\"response_flag\"]=np.where(inp1.response==\"yes\",1,0)"
   ]
  },
  {
   "cell_type": "code",
   "execution_count": 63,
   "metadata": {},
   "outputs": [
    {
     "data": {
      "text/plain": [
       "0    39906\n",
       "1     5285\n",
       "Name: response_flag, dtype: int64"
      ]
     },
     "execution_count": 63,
     "metadata": {},
     "output_type": "execute_result"
    }
   ],
   "source": [
    "inp1.response_flag.value_counts()"
   ]
  },
  {
   "cell_type": "code",
   "execution_count": 64,
   "metadata": {},
   "outputs": [
    {
     "data": {
      "text/plain": [
       "no     39876\n",
       "yes     5285\n",
       "Name: response, dtype: int64"
      ]
     },
     "execution_count": 64,
     "metadata": {},
     "output_type": "execute_result"
    }
   ],
   "source": [
    "inp1.response.value_counts()"
   ]
  },
  {
   "cell_type": "code",
   "execution_count": 65,
   "metadata": {},
   "outputs": [
    {
     "data": {
      "text/plain": [
       "no     0.882974\n",
       "yes    0.117026\n",
       "Name: response, dtype: float64"
      ]
     },
     "execution_count": 65,
     "metadata": {},
     "output_type": "execute_result"
    }
   ],
   "source": [
    "inp1.response.value_counts(normalize=True)"
   ]
  },
  {
   "cell_type": "code",
   "execution_count": 66,
   "metadata": {},
   "outputs": [
    {
     "data": {
      "text/plain": [
       "0.11694806488017526"
      ]
     },
     "execution_count": 66,
     "metadata": {},
     "output_type": "execute_result"
    }
   ],
   "source": [
    "inp1.response_flag.mean()"
   ]
  },
  {
   "cell_type": "markdown",
   "metadata": {},
   "source": [
    "Now if we want to chech the response rate for any variable, we simple need to take in the average value of the inp1.response_flag.mean()"
   ]
  },
  {
   "cell_type": "markdown",
   "metadata": {},
   "source": [
    "#### Education vs Response Rate"
   ]
  },
  {
   "cell_type": "code",
   "execution_count": 67,
   "metadata": {},
   "outputs": [
    {
     "data": {
      "text/plain": [
       "edu\n",
       "primary      0.086328\n",
       "secondary    0.105549\n",
       "tertiary     0.149981\n",
       "unknown      0.135703\n",
       "Name: response_flag, dtype: float64"
      ]
     },
     "execution_count": 67,
     "metadata": {},
     "output_type": "execute_result"
    }
   ],
   "source": [
    "inp1.groupby([\"edu\"])[\"response_flag\"].mean()"
   ]
  },
  {
   "cell_type": "markdown",
   "metadata": {},
   "source": [
    "As the level of education increases the response rate also increases."
   ]
  },
  {
   "cell_type": "markdown",
   "metadata": {},
   "source": [
    "Looks like the higher education people are more inclined to it."
   ]
  },
  {
   "cell_type": "markdown",
   "metadata": {},
   "source": [
    "#### Marital vs Response Rate"
   ]
  },
  {
   "cell_type": "code",
   "execution_count": 68,
   "metadata": {},
   "outputs": [
    {
     "data": {
      "text/plain": [
       "marital\n",
       "divorced    0.119400\n",
       "married     0.101198\n",
       "single      0.149460\n",
       "Name: response_flag, dtype: float64"
      ]
     },
     "execution_count": 68,
     "metadata": {},
     "output_type": "execute_result"
    }
   ],
   "source": [
    "inp1.groupby([\"marital\"])[\"response_flag\"].mean()"
   ]
  },
  {
   "cell_type": "code",
   "execution_count": 70,
   "metadata": {},
   "outputs": [
    {
     "data": {
      "image/png": "[encoded data removed]",
      "text/plain": [
       "<Figure size 432x288 with 1 Axes>"
      ]
     },
     "metadata": {
      "needs_background": "light"
     },
     "output_type": "display_data"
    }
   ],
   "source": [
    "inp1.groupby([\"marital\"])[\"response_flag\"].mean().plot.barh()\n",
    "plt.show()"
   ]
  },
  {
   "cell_type": "markdown",
   "metadata": {},
   "source": [
    "Single people are most inclined to making a term deposit. So we should we target them ofcourse."
   ]
  },
  {
   "cell_type": "code",
   "execution_count": 73,
   "metadata": {},
   "outputs": [
    {
     "data": {
      "image/png": "[encoded data removed]",
      "text/plain": [
       "<Figure size 432x288 with 1 Axes>"
      ]
     },
     "metadata": {
      "needs_background": "light"
     },
     "output_type": "display_data"
    }
   ],
   "source": [
    "inp1.groupby([\"loan\"])[\"response_flag\"].mean().plot.bar()\n",
    "plt.show()"
   ]
  },
  {
   "cell_type": "markdown",
   "metadata": {},
   "source": [
    "People who have a loan are less likely to respond to the campaign."
   ]
  },
  {
   "cell_type": "markdown",
   "metadata": {},
   "source": [
    "#### Let's check for the housing loan as well."
   ]
  },
  {
   "cell_type": "code",
   "execution_count": 74,
   "metadata": {},
   "outputs": [
    {
     "data": {
      "image/png": "[encoded data removed]",
      "text/plain": [
       "<Figure size 432x288 with 1 Axes>"
      ]
     },
     "metadata": {
      "needs_background": "light"
     },
     "output_type": "display_data"
    }
   ],
   "source": [
    "inp1.groupby([\"housing\"])[\"response_flag\"].mean().plot.bar()\n",
    "plt.show()"
   ]
  },
  {
   "cell_type": "markdown",
   "metadata": {},
   "source": [
    "Just like the personal loans, the situation is same here. People with home loans are less sussceptible to opt for the campaign."
   ]
  },
  {
   "cell_type": "markdown",
   "metadata": {},
   "source": [
    "### Age vs Resonse"
   ]
  },
  {
   "cell_type": "code",
   "execution_count": 75,
   "metadata": {},
   "outputs": [
    {
     "data": {
      "image/png": "[encoded data removed]",
      "text/plain": [
       "<Figure size 432x288 with 1 Axes>"
      ]
     },
     "metadata": {
      "needs_background": "light"
     },
     "output_type": "display_data"
    }
   ],
   "source": [
    "sns.boxplot(data=inp1,x=\"response\",y=\"age\")\n",
    "plt.show()"
   ]
  },
  {
   "cell_type": "markdown",
   "metadata": {},
   "source": [
    "Instead of looking like this let's divide the age into buckets."
   ]
  },
  {
   "cell_type": "markdown",
   "metadata": {},
   "source": [
    "### Making buckets out of the age column"
   ]
  },
  {
   "cell_type": "code",
   "execution_count": 78,
   "metadata": {},
   "outputs": [
    {
     "data": {
      "text/plain": [
       "0        50-60\n",
       "1        40-50\n",
       "2        30-40\n",
       "3        40-50\n",
       "4        30-40\n",
       "         ...  \n",
       "45206    50-60\n",
       "45207      >60\n",
       "45208      >60\n",
       "45209    50-60\n",
       "45210    30-40\n",
       "Name: age, Length: 45191, dtype: category\n",
       "Categories (5, object): [<30 < 30-40 < 40-50 < 50-60 < >60]"
      ]
     },
     "execution_count": 78,
     "metadata": {},
     "output_type": "execute_result"
    }
   ],
   "source": [
    "pd.cut(inp1.age,[0,30,40,50,60,999],labels=[\"<30\",\"30-40\",\"40-50\",\"50-60\",\">60\"])"
   ]
  },
  {
   "cell_type": "code",
   "execution_count": 79,
   "metadata": {},
   "outputs": [
    {
     "data": {
      "text/plain": [
       "0    58.0\n",
       "1    44.0\n",
       "2    33.0\n",
       "3    47.0\n",
       "4    33.0\n",
       "Name: age, dtype: float64"
      ]
     },
     "execution_count": 79,
     "metadata": {},
     "output_type": "execute_result"
    }
   ],
   "source": [
    "inp1.age.head() #lets check the values just for being sure"
   ]
  },
  {
   "cell_type": "code",
   "execution_count": 80,
   "metadata": {},
   "outputs": [],
   "source": [
    "#let's create a new variable\n",
    "inp1[\"age_group\"]=pd.cut(inp1.age,[0,30,40,50,60,999],labels=[\"<30\",\"30-40\",\"40-50\",\"50-60\",\">60\"])"
   ]
  },
  {
   "cell_type": "code",
   "execution_count": 81,
   "metadata": {},
   "outputs": [
    {
     "data": {
      "text/plain": [
       "30-40    0.391206\n",
       "40-50    0.248611\n",
       "50-60    0.178376\n",
       "<30      0.155518\n",
       ">60      0.026288\n",
       "Name: age_group, dtype: float64"
      ]
     },
     "execution_count": 81,
     "metadata": {},
     "output_type": "execute_result"
    }
   ],
   "source": [
    "inp1.age_group.value_counts(normalize=True)"
   ]
  },
  {
   "cell_type": "markdown",
   "metadata": {},
   "source": [
    "From this we see that most people are in the age group 30-40!!"
   ]
  },
  {
   "cell_type": "code",
   "execution_count": 83,
   "metadata": {},
   "outputs": [
    {
     "data": {
      "image/png": "[encoded data removed]",
      "text/plain": [
       "<Figure size 720x288 with 2 Axes>"
      ]
     },
     "metadata": {
      "needs_background": "light"
     },
     "output_type": "display_data"
    }
   ],
   "source": [
    "plt.figure(figsize=[10,4])\n",
    "plt.subplot(1,2,1)\n",
    "inp1.age_group.value_counts(normalize=True).plot.bar()\n",
    "plt.subplot(1,2,2)\n",
    "inp1.groupby([\"age_group\"])[\"response_flag\"].mean().plot.bar()\n",
    "plt.show()"
   ]
  },
  {
   "cell_type": "markdown",
   "metadata": {},
   "source": [
    "Higher age groups have a huge success rate because there response rate is quite high."
   ]
  },
  {
   "cell_type": "markdown",
   "metadata": {},
   "source": [
    "### Job vs Response"
   ]
  },
  {
   "cell_type": "code",
   "execution_count": 84,
   "metadata": {},
   "outputs": [
    {
     "data": {
      "image/png": "[encoded data removed]",
      "text/plain": [
       "<Figure size 432x288 with 1 Axes>"
      ]
     },
     "metadata": {
      "needs_background": "light"
     },
     "output_type": "display_data"
    }
   ],
   "source": [
    "inp1.groupby([\"job\"])[\"response_flag\"].mean().plot.bar()\n",
    "plt.show()"
   ]
  },
  {
   "cell_type": "markdown",
   "metadata": {},
   "source": [
    "### Multivariate Analysis"
   ]
  },
  {
   "cell_type": "markdown",
   "metadata": {},
   "source": [
    "Look at combinations of variables and look at the response rates."
   ]
  },
  {
   "cell_type": "markdown",
   "metadata": {},
   "source": [
    "#### Education, Marital and Response "
   ]
  },
  {
   "cell_type": "code",
   "execution_count": 86,
   "metadata": {},
   "outputs": [
    {
     "data": {
      "text/html": [
       "<div>\n",
       "<style scoped>\n",
       "    .dataframe tbody tr th:only-of-type {\n",
       "        vertical-align: middle;\n",
       "    }\n",
       "\n",
       "    .dataframe tbody tr th {\n",
       "        vertical-align: top;\n",
       "    }\n",
       "\n",
       "    .dataframe thead th {\n",
       "        text-align: right;\n",
       "    }\n",
       "</style>\n",
       "<table border=\"1\" class=\"dataframe\">\n",
       "  <thead>\n",
       "    <tr style=\"text-align: right;\">\n",
       "      <th></th>\n",
       "      <th>age</th>\n",
       "      <th>salary</th>\n",
       "      <th>balance</th>\n",
       "      <th>marital</th>\n",
       "      <th>targeted</th>\n",
       "      <th>default</th>\n",
       "      <th>housing</th>\n",
       "      <th>loan</th>\n",
       "      <th>contact</th>\n",
       "      <th>day</th>\n",
       "      <th>...</th>\n",
       "      <th>duration</th>\n",
       "      <th>campaign</th>\n",
       "      <th>pdays</th>\n",
       "      <th>previous</th>\n",
       "      <th>poutcome</th>\n",
       "      <th>response</th>\n",
       "      <th>job</th>\n",
       "      <th>edu</th>\n",
       "      <th>response_flag</th>\n",
       "      <th>age_group</th>\n",
       "    </tr>\n",
       "  </thead>\n",
       "  <tbody>\n",
       "    <tr>\n",
       "      <th>0</th>\n",
       "      <td>58.0</td>\n",
       "      <td>100000</td>\n",
       "      <td>2143</td>\n",
       "      <td>married</td>\n",
       "      <td>yes</td>\n",
       "      <td>no</td>\n",
       "      <td>yes</td>\n",
       "      <td>no</td>\n",
       "      <td>unknown</td>\n",
       "      <td>5</td>\n",
       "      <td>...</td>\n",
       "      <td>4.350000</td>\n",
       "      <td>1</td>\n",
       "      <td>NaN</td>\n",
       "      <td>0</td>\n",
       "      <td>unknown</td>\n",
       "      <td>no</td>\n",
       "      <td>management</td>\n",
       "      <td>tertiary</td>\n",
       "      <td>0</td>\n",
       "      <td>50-60</td>\n",
       "    </tr>\n",
       "    <tr>\n",
       "      <th>1</th>\n",
       "      <td>44.0</td>\n",
       "      <td>60000</td>\n",
       "      <td>29</td>\n",
       "      <td>single</td>\n",
       "      <td>yes</td>\n",
       "      <td>no</td>\n",
       "      <td>yes</td>\n",
       "      <td>no</td>\n",
       "      <td>unknown</td>\n",
       "      <td>5</td>\n",
       "      <td>...</td>\n",
       "      <td>2.516667</td>\n",
       "      <td>1</td>\n",
       "      <td>NaN</td>\n",
       "      <td>0</td>\n",
       "      <td>unknown</td>\n",
       "      <td>no</td>\n",
       "      <td>technician</td>\n",
       "      <td>secondary</td>\n",
       "      <td>0</td>\n",
       "      <td>40-50</td>\n",
       "    </tr>\n",
       "    <tr>\n",
       "      <th>2</th>\n",
       "      <td>33.0</td>\n",
       "      <td>120000</td>\n",
       "      <td>2</td>\n",
       "      <td>married</td>\n",
       "      <td>yes</td>\n",
       "      <td>no</td>\n",
       "      <td>yes</td>\n",
       "      <td>yes</td>\n",
       "      <td>unknown</td>\n",
       "      <td>5</td>\n",
       "      <td>...</td>\n",
       "      <td>1.266667</td>\n",
       "      <td>1</td>\n",
       "      <td>NaN</td>\n",
       "      <td>0</td>\n",
       "      <td>unknown</td>\n",
       "      <td>no</td>\n",
       "      <td>entrepreneur</td>\n",
       "      <td>secondary</td>\n",
       "      <td>0</td>\n",
       "      <td>30-40</td>\n",
       "    </tr>\n",
       "    <tr>\n",
       "      <th>3</th>\n",
       "      <td>47.0</td>\n",
       "      <td>20000</td>\n",
       "      <td>1506</td>\n",
       "      <td>married</td>\n",
       "      <td>no</td>\n",
       "      <td>no</td>\n",
       "      <td>yes</td>\n",
       "      <td>no</td>\n",
       "      <td>unknown</td>\n",
       "      <td>5</td>\n",
       "      <td>...</td>\n",
       "      <td>1.533333</td>\n",
       "      <td>1</td>\n",
       "      <td>NaN</td>\n",
       "      <td>0</td>\n",
       "      <td>unknown</td>\n",
       "      <td>no</td>\n",
       "      <td>blue-collar</td>\n",
       "      <td>unknown</td>\n",
       "      <td>0</td>\n",
       "      <td>40-50</td>\n",
       "    </tr>\n",
       "    <tr>\n",
       "      <th>4</th>\n",
       "      <td>33.0</td>\n",
       "      <td>0</td>\n",
       "      <td>1</td>\n",
       "      <td>single</td>\n",
       "      <td>no</td>\n",
       "      <td>no</td>\n",
       "      <td>no</td>\n",
       "      <td>no</td>\n",
       "      <td>unknown</td>\n",
       "      <td>5</td>\n",
       "      <td>...</td>\n",
       "      <td>3.300000</td>\n",
       "      <td>1</td>\n",
       "      <td>NaN</td>\n",
       "      <td>0</td>\n",
       "      <td>unknown</td>\n",
       "      <td>no</td>\n",
       "      <td>unknown</td>\n",
       "      <td>unknown</td>\n",
       "      <td>0</td>\n",
       "      <td>30-40</td>\n",
       "    </tr>\n",
       "  </tbody>\n",
       "</table>\n",
       "<p>5 rows × 21 columns</p>\n",
       "</div>"
      ],
      "text/plain": [
       "    age  salary  balance  marital targeted default housing loan  contact  day  \\\n",
       "0  58.0  100000     2143  married      yes      no     yes   no  unknown    5   \n",
       "1  44.0   60000       29   single      yes      no     yes   no  unknown    5   \n",
       "2  33.0  120000        2  married      yes      no     yes  yes  unknown    5   \n",
       "3  47.0   20000     1506  married       no      no     yes   no  unknown    5   \n",
       "4  33.0       0        1   single       no      no      no   no  unknown    5   \n",
       "\n",
       "   ...  duration  campaign  pdays  previous  poutcome response           job  \\\n",
       "0  ...  4.350000         1    NaN         0   unknown       no    management   \n",
       "1  ...  2.516667         1    NaN         0   unknown       no    technician   \n",
       "2  ...  1.266667         1    NaN         0   unknown       no  entrepreneur   \n",
       "3  ...  1.533333         1    NaN         0   unknown       no   blue-collar   \n",
       "4  ...  3.300000         1    NaN         0   unknown       no       unknown   \n",
       "\n",
       "         edu response_flag  age_group  \n",
       "0   tertiary             0      50-60  \n",
       "1  secondary             0      40-50  \n",
       "2  secondary             0      30-40  \n",
       "3    unknown             0      40-50  \n",
       "4    unknown             0      30-40  \n",
       "\n",
       "[5 rows x 21 columns]"
      ]
     },
     "execution_count": 86,
     "metadata": {},
     "output_type": "execute_result"
    }
   ],
   "source": [
    "inp1.head()"
   ]
  },
  {
   "cell_type": "code",
   "execution_count": 87,
   "metadata": {},
   "outputs": [
    {
     "data": {
      "text/html": [
       "<div>\n",
       "<style scoped>\n",
       "    .dataframe tbody tr th:only-of-type {\n",
       "        vertical-align: middle;\n",
       "    }\n",
       "\n",
       "    .dataframe tbody tr th {\n",
       "        vertical-align: top;\n",
       "    }\n",
       "\n",
       "    .dataframe thead th {\n",
       "        text-align: right;\n",
       "    }\n",
       "</style>\n",
       "<table border=\"1\" class=\"dataframe\">\n",
       "  <thead>\n",
       "    <tr style=\"text-align: right;\">\n",
       "      <th>marital</th>\n",
       "      <th>divorced</th>\n",
       "      <th>married</th>\n",
       "      <th>single</th>\n",
       "    </tr>\n",
       "    <tr>\n",
       "      <th>edu</th>\n",
       "      <th></th>\n",
       "      <th></th>\n",
       "      <th></th>\n",
       "    </tr>\n",
       "  </thead>\n",
       "  <tbody>\n",
       "    <tr>\n",
       "      <th>primary</th>\n",
       "      <td>0.138667</td>\n",
       "      <td>0.075515</td>\n",
       "      <td>0.106808</td>\n",
       "    </tr>\n",
       "    <tr>\n",
       "      <th>secondary</th>\n",
       "      <td>0.103485</td>\n",
       "      <td>0.094595</td>\n",
       "      <td>0.129213</td>\n",
       "    </tr>\n",
       "    <tr>\n",
       "      <th>tertiary</th>\n",
       "      <td>0.137415</td>\n",
       "      <td>0.129761</td>\n",
       "      <td>0.183546</td>\n",
       "    </tr>\n",
       "    <tr>\n",
       "      <th>unknown</th>\n",
       "      <td>0.142012</td>\n",
       "      <td>0.122414</td>\n",
       "      <td>0.162879</td>\n",
       "    </tr>\n",
       "  </tbody>\n",
       "</table>\n",
       "</div>"
      ],
      "text/plain": [
       "marital    divorced   married    single\n",
       "edu                                    \n",
       "primary    0.138667  0.075515  0.106808\n",
       "secondary  0.103485  0.094595  0.129213\n",
       "tertiary   0.137415  0.129761  0.183546\n",
       "unknown    0.142012  0.122414  0.162879"
      ]
     },
     "execution_count": 87,
     "metadata": {},
     "output_type": "execute_result"
    }
   ],
   "source": [
    "pd.pivot_table(data=inp1,index=\"edu\",columns=\"marital\",values=\"response_flag\")"
   ]
  },
  {
   "cell_type": "markdown",
   "metadata": {},
   "source": [
    "Let's plot it!"
   ]
  },
  {
   "cell_type": "code",
   "execution_count": 90,
   "metadata": {},
   "outputs": [
    {
     "data": {
      "text/plain": [
       "<matplotlib.axes._subplots.AxesSubplot at 0x250457c1e50>"
      ]
     },
     "execution_count": 90,
     "metadata": {},
     "output_type": "execute_result"
    },
    {
     "data": {
      "image/png": "[encoded data removed]",
      "text/plain": [
       "<Figure size 432x288 with 2 Axes>"
      ]
     },
     "metadata": {
      "needs_background": "light"
     },
     "output_type": "display_data"
    }
   ],
   "source": [
    "res=pd.pivot_table(data=inp1,index=\"edu\",columns=\"marital\",values=\"response_flag\")\n",
    "sns.heatmap(res,annot=True)"
   ]
  },
  {
   "cell_type": "code",
   "execution_count": 91,
   "metadata": {},
   "outputs": [
    {
     "data": {
      "image/png": "[encoded data removed]",
      "text/plain": [
       "<Figure size 432x288 with 2 Axes>"
      ]
     },
     "metadata": {
      "needs_background": "light"
     },
     "output_type": "display_data"
    }
   ],
   "source": [
    "#Let's use a different color coding\n",
    "sns.heatmap(res,annot=True,cmap=\"RdYlGn\")\n",
    "plt.show()"
   ]
  },
  {
   "cell_type": "markdown",
   "metadata": {},
   "source": [
    "So from this we can say that tertiary education equipped students are very responsive towards the campaign."
   ]
  },
  {
   "cell_type": "markdown",
   "metadata": {},
   "source": [
    "Now as we checked the average response rate is around 0.117 hence lets recentre the heatmap around it and see:"
   ]
  },
  {
   "cell_type": "code",
   "execution_count": 92,
   "metadata": {},
   "outputs": [
    {
     "data": {
      "image/png": "[encoded data removed]",
      "text/plain": [
       "<Figure size 432x288 with 2 Axes>"
      ]
     },
     "metadata": {
      "needs_background": "light"
     },
     "output_type": "display_data"
    }
   ],
   "source": [
    "sns.heatmap(res,annot=True,cmap=\"RdYlGn\",center=0.117)\n",
    "plt.show()"
   ]
  },
  {
   "cell_type": "markdown",
   "metadata": {},
   "source": [
    "### Marital vs Job vs Response"
   ]
  },
  {
   "cell_type": "code",
   "execution_count": 93,
   "metadata": {},
   "outputs": [
    {
     "data": {
      "text/html": [
       "<div>\n",
       "<style scoped>\n",
       "    .dataframe tbody tr th:only-of-type {\n",
       "        vertical-align: middle;\n",
       "    }\n",
       "\n",
       "    .dataframe tbody tr th {\n",
       "        vertical-align: top;\n",
       "    }\n",
       "\n",
       "    .dataframe thead th {\n",
       "        text-align: right;\n",
       "    }\n",
       "</style>\n",
       "<table border=\"1\" class=\"dataframe\">\n",
       "  <thead>\n",
       "    <tr style=\"text-align: right;\">\n",
       "      <th>marital</th>\n",
       "      <th>divorced</th>\n",
       "      <th>married</th>\n",
       "      <th>single</th>\n",
       "    </tr>\n",
       "    <tr>\n",
       "      <th>job</th>\n",
       "      <th></th>\n",
       "      <th></th>\n",
       "      <th></th>\n",
       "    </tr>\n",
       "  </thead>\n",
       "  <tbody>\n",
       "    <tr>\n",
       "      <th>admin.</th>\n",
       "      <td>0.120000</td>\n",
       "      <td>0.113257</td>\n",
       "      <td>0.136074</td>\n",
       "    </tr>\n",
       "    <tr>\n",
       "      <th>blue-collar</th>\n",
       "      <td>0.077540</td>\n",
       "      <td>0.062742</td>\n",
       "      <td>0.105760</td>\n",
       "    </tr>\n",
       "    <tr>\n",
       "      <th>entrepreneur</th>\n",
       "      <td>0.083799</td>\n",
       "      <td>0.075843</td>\n",
       "      <td>0.113445</td>\n",
       "    </tr>\n",
       "    <tr>\n",
       "      <th>housemaid</th>\n",
       "      <td>0.097826</td>\n",
       "      <td>0.072448</td>\n",
       "      <td>0.166667</td>\n",
       "    </tr>\n",
       "    <tr>\n",
       "      <th>management</th>\n",
       "      <td>0.127928</td>\n",
       "      <td>0.126134</td>\n",
       "      <td>0.162254</td>\n",
       "    </tr>\n",
       "    <tr>\n",
       "      <th>retired</th>\n",
       "      <td>0.283019</td>\n",
       "      <td>0.220682</td>\n",
       "      <td>0.120370</td>\n",
       "    </tr>\n",
       "    <tr>\n",
       "      <th>self-employed</th>\n",
       "      <td>0.158273</td>\n",
       "      <td>0.079557</td>\n",
       "      <td>0.190583</td>\n",
       "    </tr>\n",
       "    <tr>\n",
       "      <th>services</th>\n",
       "      <td>0.091241</td>\n",
       "      <td>0.073982</td>\n",
       "      <td>0.117696</td>\n",
       "    </tr>\n",
       "    <tr>\n",
       "      <th>student</th>\n",
       "      <td>0.166667</td>\n",
       "      <td>0.185185</td>\n",
       "      <td>0.293850</td>\n",
       "    </tr>\n",
       "    <tr>\n",
       "      <th>technician</th>\n",
       "      <td>0.083243</td>\n",
       "      <td>0.102716</td>\n",
       "      <td>0.132493</td>\n",
       "    </tr>\n",
       "    <tr>\n",
       "      <th>unemployed</th>\n",
       "      <td>0.157895</td>\n",
       "      <td>0.132695</td>\n",
       "      <td>0.195000</td>\n",
       "    </tr>\n",
       "    <tr>\n",
       "      <th>unknown</th>\n",
       "      <td>0.058824</td>\n",
       "      <td>0.103448</td>\n",
       "      <td>0.176471</td>\n",
       "    </tr>\n",
       "  </tbody>\n",
       "</table>\n",
       "</div>"
      ],
      "text/plain": [
       "marital        divorced   married    single\n",
       "job                                        \n",
       "admin.         0.120000  0.113257  0.136074\n",
       "blue-collar    0.077540  0.062742  0.105760\n",
       "entrepreneur   0.083799  0.075843  0.113445\n",
       "housemaid      0.097826  0.072448  0.166667\n",
       "management     0.127928  0.126134  0.162254\n",
       "retired        0.283019  0.220682  0.120370\n",
       "self-employed  0.158273  0.079557  0.190583\n",
       "services       0.091241  0.073982  0.117696\n",
       "student        0.166667  0.185185  0.293850\n",
       "technician     0.083243  0.102716  0.132493\n",
       "unemployed     0.157895  0.132695  0.195000\n",
       "unknown        0.058824  0.103448  0.176471"
      ]
     },
     "execution_count": 93,
     "metadata": {},
     "output_type": "execute_result"
    }
   ],
   "source": [
    "res=pd.pivot_table(data=inp1,index=\"job\",columns=\"marital\",values=\"response_flag\")\n",
    "res"
   ]
  },
  {
   "cell_type": "code",
   "execution_count": 94,
   "metadata": {},
   "outputs": [
    {
     "data": {
      "image/png": "[encoded data removed]",
      "text/plain": [
       "<Figure size 432x288 with 2 Axes>"
      ]
     },
     "metadata": {
      "needs_background": "light"
     },
     "output_type": "display_data"
    }
   ],
   "source": [
    "sns.heatmap(res,annot=True,cmap=\"RdYlGn\",center=0.117)\n",
    "plt.show()"
   ]
  },
  {
   "cell_type": "markdown",
   "metadata": {},
   "source": [
    "So retired folks in general have a high response rate. And this is a far more detailed view as the values are color-coded."
   ]
  },
  {
   "cell_type": "markdown",
   "metadata": {},
   "source": [
    "### Education vs Poutcome vs Response"
   ]
  },
  {
   "cell_type": "code",
   "execution_count": 96,
   "metadata": {},
   "outputs": [
    {
     "data": {
      "text/html": [
       "<div>\n",
       "<style scoped>\n",
       "    .dataframe tbody tr th:only-of-type {\n",
       "        vertical-align: middle;\n",
       "    }\n",
       "\n",
       "    .dataframe tbody tr th {\n",
       "        vertical-align: top;\n",
       "    }\n",
       "\n",
       "    .dataframe thead th {\n",
       "        text-align: right;\n",
       "    }\n",
       "</style>\n",
       "<table border=\"1\" class=\"dataframe\">\n",
       "  <thead>\n",
       "    <tr style=\"text-align: right;\">\n",
       "      <th>poutcome</th>\n",
       "      <th>failure</th>\n",
       "      <th>other</th>\n",
       "      <th>success</th>\n",
       "      <th>unknown</th>\n",
       "    </tr>\n",
       "    <tr>\n",
       "      <th>edu</th>\n",
       "      <th></th>\n",
       "      <th></th>\n",
       "      <th></th>\n",
       "      <th></th>\n",
       "    </tr>\n",
       "  </thead>\n",
       "  <tbody>\n",
       "    <tr>\n",
       "      <th>primary</th>\n",
       "      <td>0.088785</td>\n",
       "      <td>0.143443</td>\n",
       "      <td>0.609023</td>\n",
       "      <td>0.071735</td>\n",
       "    </tr>\n",
       "    <tr>\n",
       "      <th>secondary</th>\n",
       "      <td>0.108922</td>\n",
       "      <td>0.140831</td>\n",
       "      <td>0.640950</td>\n",
       "      <td>0.084200</td>\n",
       "    </tr>\n",
       "    <tr>\n",
       "      <th>tertiary</th>\n",
       "      <td>0.168456</td>\n",
       "      <td>0.220588</td>\n",
       "      <td>0.657005</td>\n",
       "      <td>0.114192</td>\n",
       "    </tr>\n",
       "    <tr>\n",
       "      <th>unknown</th>\n",
       "      <td>0.158192</td>\n",
       "      <td>0.200000</td>\n",
       "      <td>0.679012</td>\n",
       "      <td>0.101695</td>\n",
       "    </tr>\n",
       "  </tbody>\n",
       "</table>\n",
       "</div>"
      ],
      "text/plain": [
       "poutcome    failure     other   success   unknown\n",
       "edu                                              \n",
       "primary    0.088785  0.143443  0.609023  0.071735\n",
       "secondary  0.108922  0.140831  0.640950  0.084200\n",
       "tertiary   0.168456  0.220588  0.657005  0.114192\n",
       "unknown    0.158192  0.200000  0.679012  0.101695"
      ]
     },
     "execution_count": 96,
     "metadata": {},
     "output_type": "execute_result"
    }
   ],
   "source": [
    "res=pd.pivot_table(data=inp1,index=\"edu\",columns=\"poutcome\",values=\"response_flag\")\n",
    "res"
   ]
  },
  {
   "cell_type": "code",
   "execution_count": 97,
   "metadata": {},
   "outputs": [
    {
     "data": {
      "image/png": "[encoded data removed]",
      "text/plain": [
       "<Figure size 432x288 with 2 Axes>"
      ]
     },
     "metadata": {
      "needs_background": "light"
     },
     "output_type": "display_data"
    }
   ],
   "source": [
    "sns.heatmap(res,annot=True,cmap=\"RdYlGn\",center=0.117)\n",
    "plt.show()"
   ]
  },
  {
   "cell_type": "markdown",
   "metadata": {},
   "source": [
    "Notice that for these guys who have been contacted before the average value of the response is not 0.117, it's different."
   ]
  },
  {
   "cell_type": "code",
   "execution_count": 98,
   "metadata": {},
   "outputs": [
    {
     "data": {
      "text/plain": [
       "0.23061076102762967"
      ]
     },
     "execution_count": 98,
     "metadata": {},
     "output_type": "execute_result"
    }
   ],
   "source": [
    "inp1[inp1.pdays>0].response_flag.mean() #This is where the previous campaign happened!!"
   ]
  },
  {
   "cell_type": "markdown",
   "metadata": {},
   "source": [
    "So 0.2306 is our centre and we need to update it."
   ]
  },
  {
   "cell_type": "code",
   "execution_count": 99,
   "metadata": {},
   "outputs": [
    {
     "data": {
      "image/png": "[encoded data removed]",
      "text/plain": [
       "<Figure size 432x288 with 2 Axes>"
      ]
     },
     "metadata": {
      "needs_background": "light"
     },
     "output_type": "display_data"
    }
   ],
   "source": [
    "sns.heatmap(res,annot=True,cmap=\"RdYlGn\",center=0.2306)\n",
    "plt.show()"
   ]
  },
  {
   "cell_type": "markdown",
   "metadata": {},
   "source": [
    "- So this means the guys who responded previously might respons to this campaign as well.\n",
    "- And in each bucket education we see that primary is always lower as compared to other stages of education."
   ]
  },
  {
   "cell_type": "markdown",
   "metadata": {},
   "source": [
    "### Conclusion: \n",
    "#### These are the most optimal insights we could generate on this banking dataset using EDA."
   ]
  },
  {
   "cell_type": "code",
   "execution_count": null,
   "metadata": {},
   "outputs": [],
   "source": []
  }
 ],
 "metadata": {
  "kernelspec": {
   "display_name": "Python 3",
   "language": "python",
   "name": "python3"
  },
  "language_info": {
   "codemirror_mode": {
    "name": "ipython",
    "version": 3
   },
   "file_extension": ".py",
   "mimetype": "text/x-python",
   "name": "python",
   "nbconvert_exporter": "python",
   "pygments_lexer": "ipython3",
   "version": "3.8.3"
  }
 },
 "nbformat": 4,
 "nbformat_minor": 4
}
